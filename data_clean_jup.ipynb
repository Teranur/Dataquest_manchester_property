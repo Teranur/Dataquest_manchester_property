{
 "cells": [
  {
   "cell_type": "markdown",
   "id": "27b17f2e",
   "metadata": {},
   "source": [
    "1. Import polars, and load the data into Dataframes"
   ]
  },
  {
   "cell_type": "code",
   "execution_count": 1,
   "id": "50eb2019",
   "metadata": {},
   "outputs": [],
   "source": [
    "import polars as pl"
   ]
  },
  {
   "cell_type": "code",
   "execution_count": 2,
   "id": "ba16cc7f",
   "metadata": {},
   "outputs": [],
   "source": [
    "df = pl.read_parquet(\"data/pp_data_man.parquet\")\n",
    "df2 = pl.read_parquet(\"data/pc_man.parquet\")"
   ]
  },
  {
   "cell_type": "markdown",
   "id": "860777ff",
   "metadata": {},
   "source": [
    "2. Check Dataframes"
   ]
  },
  {
   "cell_type": "code",
   "execution_count": 3,
   "id": "b8367e89",
   "metadata": {},
   "outputs": [
    {
     "data": {
      "text/html": [
       "<div><style>\n",
       ".dataframe > thead > tr,\n",
       ".dataframe > tbody > tr {\n",
       "  text-align: right;\n",
       "  white-space: pre-wrap;\n",
       "}\n",
       "</style>\n",
       "<small>shape: (5, 14)</small><table border=\"1\" class=\"dataframe\"><thead><tr><th>column_1</th><th>column_2</th><th>column_3</th><th>column_4</th><th>column_5</th><th>column_6</th><th>column_7</th><th>column_8</th><th>column_9</th><th>column_10</th><th>column_11</th><th>column_12</th><th>column_13</th><th>column_14</th></tr><tr><td>str</td><td>str</td><td>str</td><td>str</td><td>str</td><td>str</td><td>str</td><td>str</td><td>str</td><td>str</td><td>str</td><td>str</td><td>str</td><td>str</td></tr></thead><tbody><tr><td>&quot;{D93B27B1-CBD4-3100-E053-6C04A…</td><td>&quot;140,000.00&quot;</td><td>&quot;2022-02-16 00:00&quot;</td><td>&quot;SK16 4DT&quot;</td><td>&quot;T&quot;</td><td>&quot;N&quot;</td><td>&quot;F&quot;</td><td>&quot;70&quot;</td><td>&quot;&quot;</td><td>&quot;CHAPEL STREET&quot;</td><td>&quot;&quot;</td><td>&quot;DUKINFIELD&quot;</td><td>&quot;TAMESIDE&quot;</td><td>&quot;GREATER MANCHESTER&quot;</td></tr><tr><td>&quot;{2ACACE8D-02B4-295E-E063-4804A…</td><td>&quot;278,000.00&quot;</td><td>&quot;2024-11-29 00:00&quot;</td><td>&quot;SK6 1QW&quot;</td><td>&quot;S&quot;</td><td>&quot;N&quot;</td><td>&quot;F&quot;</td><td>&quot;1&quot;</td><td>&quot;&quot;</td><td>&quot;BRIAR GROVE&quot;</td><td>&quot;WOODLEY&quot;</td><td>&quot;STOCKPORT&quot;</td><td>&quot;STOCKPORT&quot;</td><td>&quot;GREATER MANCHESTER&quot;</td></tr><tr><td>&quot;{01EB45EF-F1B0-40F3-E063-4704A…</td><td>&quot;345,448.00&quot;</td><td>&quot;2022-02-11 00:00&quot;</td><td>&quot;M1 2EY&quot;</td><td>&quot;F&quot;</td><td>&quot;Y&quot;</td><td>&quot;L&quot;</td><td>&quot;72&quot;</td><td>&quot;FLAT 902&quot;</td><td>&quot;CHAPELTOWN STREET&quot;</td><td>&quot;&quot;</td><td>&quot;MANCHESTER&quot;</td><td>&quot;MANCHESTER&quot;</td><td>&quot;GREATER MANCHESTER&quot;</td></tr><tr><td>&quot;{879537F9-FB6B-4663-A0E5-5E407…</td><td>&quot;93,000.00&quot;</td><td>&quot;2004-09-22 00:00&quot;</td><td>&quot;BL8 2RR&quot;</td><td>&quot;T&quot;</td><td>&quot;N&quot;</td><td>&quot;L&quot;</td><td>&quot;43&quot;</td><td>&quot;&quot;</td><td>&quot;NEWBOLD STREET&quot;</td><td>&quot;BURY&quot;</td><td>&quot;BURY&quot;</td><td>&quot;BURY&quot;</td><td>&quot;GREATER MANCHESTER&quot;</td></tr><tr><td>&quot;{7011B10A-2B91-8ED6-E053-6B04A…</td><td>&quot;80,000.00&quot;</td><td>&quot;2018-05-03 00:00&quot;</td><td>&quot;BL3 4HE&quot;</td><td>&quot;T&quot;</td><td>&quot;N&quot;</td><td>&quot;F&quot;</td><td>&quot;243&quot;</td><td>&quot;&quot;</td><td>&quot;WILLOWS LANE&quot;</td><td>&quot;&quot;</td><td>&quot;BOLTON&quot;</td><td>&quot;BOLTON&quot;</td><td>&quot;GREATER MANCHESTER&quot;</td></tr></tbody></table></div>"
      ],
      "text/plain": [
       "shape: (5, 14)\n",
       "┌───────────┬───────────┬───────────┬──────────┬───┬───────────┬───────────┬───────────┬───────────┐\n",
       "│ column_1  ┆ column_2  ┆ column_3  ┆ column_4 ┆ … ┆ column_11 ┆ column_12 ┆ column_13 ┆ column_14 │\n",
       "│ ---       ┆ ---       ┆ ---       ┆ ---      ┆   ┆ ---       ┆ ---       ┆ ---       ┆ ---       │\n",
       "│ str       ┆ str       ┆ str       ┆ str      ┆   ┆ str       ┆ str       ┆ str       ┆ str       │\n",
       "╞═══════════╪═══════════╪═══════════╪══════════╪═══╪═══════════╪═══════════╪═══════════╪═══════════╡\n",
       "│ {D93B27B1 ┆ 140,000.0 ┆ 2022-02-1 ┆ SK16 4DT ┆ … ┆           ┆ DUKINFIEL ┆ TAMESIDE  ┆ GREATER   │\n",
       "│ -CBD4-310 ┆ 0         ┆ 6 00:00   ┆          ┆   ┆           ┆ D         ┆           ┆ MANCHESTE │\n",
       "│ 0-E053-6C ┆           ┆           ┆          ┆   ┆           ┆           ┆           ┆ R         │\n",
       "│ 04A…      ┆           ┆           ┆          ┆   ┆           ┆           ┆           ┆           │\n",
       "│ {2ACACE8D ┆ 278,000.0 ┆ 2024-11-2 ┆ SK6 1QW  ┆ … ┆ WOODLEY   ┆ STOCKPORT ┆ STOCKPORT ┆ GREATER   │\n",
       "│ -02B4-295 ┆ 0         ┆ 9 00:00   ┆          ┆   ┆           ┆           ┆           ┆ MANCHESTE │\n",
       "│ E-E063-48 ┆           ┆           ┆          ┆   ┆           ┆           ┆           ┆ R         │\n",
       "│ 04A…      ┆           ┆           ┆          ┆   ┆           ┆           ┆           ┆           │\n",
       "│ {01EB45EF ┆ 345,448.0 ┆ 2022-02-1 ┆ M1 2EY   ┆ … ┆           ┆ MANCHESTE ┆ MANCHESTE ┆ GREATER   │\n",
       "│ -F1B0-40F ┆ 0         ┆ 1 00:00   ┆          ┆   ┆           ┆ R         ┆ R         ┆ MANCHESTE │\n",
       "│ 3-E063-47 ┆           ┆           ┆          ┆   ┆           ┆           ┆           ┆ R         │\n",
       "│ 04A…      ┆           ┆           ┆          ┆   ┆           ┆           ┆           ┆           │\n",
       "│ {879537F9 ┆ 93,000.00 ┆ 2004-09-2 ┆ BL8 2RR  ┆ … ┆ BURY      ┆ BURY      ┆ BURY      ┆ GREATER   │\n",
       "│ -FB6B-466 ┆           ┆ 2 00:00   ┆          ┆   ┆           ┆           ┆           ┆ MANCHESTE │\n",
       "│ 3-A0E5-5E ┆           ┆           ┆          ┆   ┆           ┆           ┆           ┆ R         │\n",
       "│ 407…      ┆           ┆           ┆          ┆   ┆           ┆           ┆           ┆           │\n",
       "│ {7011B10A ┆ 80,000.00 ┆ 2018-05-0 ┆ BL3 4HE  ┆ … ┆           ┆ BOLTON    ┆ BOLTON    ┆ GREATER   │\n",
       "│ -2B91-8ED ┆           ┆ 3 00:00   ┆          ┆   ┆           ┆           ┆           ┆ MANCHESTE │\n",
       "│ 6-E053-6B ┆           ┆           ┆          ┆   ┆           ┆           ┆           ┆ R         │\n",
       "│ 04A…      ┆           ┆           ┆          ┆   ┆           ┆           ┆           ┆           │\n",
       "└───────────┴───────────┴───────────┴──────────┴───┴───────────┴───────────┴───────────┴───────────┘"
      ]
     },
     "execution_count": 3,
     "metadata": {},
     "output_type": "execute_result"
    }
   ],
   "source": [
    "df.head(5)"
   ]
  },
  {
   "cell_type": "code",
   "execution_count": 4,
   "id": "f75ab4bd",
   "metadata": {},
   "outputs": [
    {
     "data": {
      "text/html": [
       "<div><style>\n",
       ".dataframe > thead > tr,\n",
       ".dataframe > tbody > tr {\n",
       "  text-align: right;\n",
       "  white-space: pre-wrap;\n",
       "}\n",
       "</style>\n",
       "<small>shape: (5, 3)</small><table border=\"1\" class=\"dataframe\"><thead><tr><th>pcds</th><th>lat</th><th>long</th></tr><tr><td>str</td><td>f64</td><td>f64</td></tr></thead><tbody><tr><td>&quot;AL1 3PE&quot;</td><td>51.755864</td><td>-0.327577</td></tr><tr><td>&quot;AL1 4FJ&quot;</td><td>51.761598</td><td>-0.326075</td></tr><tr><td>&quot;AL1 5UE&quot;</td><td>51.751596</td><td>-0.325894</td></tr><tr><td>&quot;AL2 1NT&quot;</td><td>51.720229</td><td>-0.295058</td></tr><tr><td>&quot;AL2 2PJ&quot;</td><td>51.721518</td><td>-0.337343</td></tr></tbody></table></div>"
      ],
      "text/plain": [
       "shape: (5, 3)\n",
       "┌─────────┬───────────┬───────────┐\n",
       "│ pcds    ┆ lat       ┆ long      │\n",
       "│ ---     ┆ ---       ┆ ---       │\n",
       "│ str     ┆ f64       ┆ f64       │\n",
       "╞═════════╪═══════════╪═══════════╡\n",
       "│ AL1 3PE ┆ 51.755864 ┆ -0.327577 │\n",
       "│ AL1 4FJ ┆ 51.761598 ┆ -0.326075 │\n",
       "│ AL1 5UE ┆ 51.751596 ┆ -0.325894 │\n",
       "│ AL2 1NT ┆ 51.720229 ┆ -0.295058 │\n",
       "│ AL2 2PJ ┆ 51.721518 ┆ -0.337343 │\n",
       "└─────────┴───────────┴───────────┘"
      ]
     },
     "execution_count": 4,
     "metadata": {},
     "output_type": "execute_result"
    }
   ],
   "source": [
    "df2.head(5)"
   ]
  },
  {
   "cell_type": "markdown",
   "id": "e65cb037",
   "metadata": {},
   "source": [
    "3. Rename columns, as properties are missing them and standardize the coordinates for future joining"
   ]
  },
  {
   "cell_type": "code",
   "execution_count": 5,
   "id": "78104459",
   "metadata": {},
   "outputs": [],
   "source": [
    "df.columns = [\n",
    "    \"id\", \"price\", \"date\", \"postcode\", \"property_type\", \"new\", \"duration\",\n",
    "    \"paon\", \"saon\", \"street\", \"locality\", \"town_city\", \"district\", \"county\"\n",
    "]\n",
    "df2 = df2.rename({\"pcds\": \"postcode\", \"lat\": \"latitude\", \"long\": \"longitude\"})"
   ]
  },
  {
   "cell_type": "markdown",
   "id": "ec3e9983",
   "metadata": {},
   "source": [
    "4.visual double check for the missing values/empty rows"
   ]
  },
  {
   "cell_type": "code",
   "execution_count": 6,
   "id": "b1333946",
   "metadata": {},
   "outputs": [
    {
     "data": {
      "text/html": [
       "<div><style>\n",
       ".dataframe > thead > tr,\n",
       ".dataframe > tbody > tr {\n",
       "  text-align: right;\n",
       "  white-space: pre-wrap;\n",
       "}\n",
       "</style>\n",
       "<small>shape: (10, 1)</small><table border=\"1\" class=\"dataframe\"><thead><tr><th>saon</th></tr><tr><td>str</td></tr></thead><tbody><tr><td>&quot;&quot;</td></tr><tr><td>&quot;&quot;</td></tr><tr><td>&quot;FLAT 902&quot;</td></tr><tr><td>&quot;&quot;</td></tr><tr><td>&quot;&quot;</td></tr><tr><td>&quot;APARTMENT 23&quot;</td></tr><tr><td>&quot;&quot;</td></tr><tr><td>&quot;&quot;</td></tr><tr><td>&quot;&quot;</td></tr><tr><td>&quot;&quot;</td></tr></tbody></table></div>"
      ],
      "text/plain": [
       "shape: (10, 1)\n",
       "┌──────────────┐\n",
       "│ saon         │\n",
       "│ ---          │\n",
       "│ str          │\n",
       "╞══════════════╡\n",
       "│              │\n",
       "│              │\n",
       "│ FLAT 902     │\n",
       "│              │\n",
       "│              │\n",
       "│ APARTMENT 23 │\n",
       "│              │\n",
       "│              │\n",
       "│              │\n",
       "│              │\n",
       "└──────────────┘"
      ]
     },
     "execution_count": 6,
     "metadata": {},
     "output_type": "execute_result"
    }
   ],
   "source": [
    "df.select(pl.col(\"saon\")).head(10)\n"
   ]
  },
  {
   "cell_type": "markdown",
   "id": "7d71086b",
   "metadata": {},
   "source": [
    "5.Count nulls"
   ]
  },
  {
   "cell_type": "code",
   "execution_count": 7,
   "id": "ba3f197c",
   "metadata": {},
   "outputs": [
    {
     "data": {
      "text/html": [
       "<div><style>\n",
       ".dataframe > thead > tr,\n",
       ".dataframe > tbody > tr {\n",
       "  text-align: right;\n",
       "  white-space: pre-wrap;\n",
       "}\n",
       "</style>\n",
       "<small>shape: (1, 14)</small><table border=\"1\" class=\"dataframe\"><thead><tr><th>id</th><th>price</th><th>date</th><th>postcode</th><th>property_type</th><th>new</th><th>duration</th><th>paon</th><th>saon</th><th>street</th><th>locality</th><th>town_city</th><th>district</th><th>county</th></tr><tr><td>u32</td><td>u32</td><td>u32</td><td>u32</td><td>u32</td><td>u32</td><td>u32</td><td>u32</td><td>u32</td><td>u32</td><td>u32</td><td>u32</td><td>u32</td><td>u32</td></tr></thead><tbody><tr><td>0</td><td>0</td><td>0</td><td>0</td><td>0</td><td>0</td><td>0</td><td>0</td><td>0</td><td>0</td><td>0</td><td>0</td><td>0</td><td>0</td></tr></tbody></table></div>"
      ],
      "text/plain": [
       "shape: (1, 14)\n",
       "┌─────┬───────┬──────┬──────────┬───┬──────────┬───────────┬──────────┬────────┐\n",
       "│ id  ┆ price ┆ date ┆ postcode ┆ … ┆ locality ┆ town_city ┆ district ┆ county │\n",
       "│ --- ┆ ---   ┆ ---  ┆ ---      ┆   ┆ ---      ┆ ---       ┆ ---      ┆ ---    │\n",
       "│ u32 ┆ u32   ┆ u32  ┆ u32      ┆   ┆ u32      ┆ u32       ┆ u32      ┆ u32    │\n",
       "╞═════╪═══════╪══════╪══════════╪═══╪══════════╪═══════════╪══════════╪════════╡\n",
       "│ 0   ┆ 0     ┆ 0    ┆ 0        ┆ … ┆ 0        ┆ 0         ┆ 0        ┆ 0      │\n",
       "└─────┴───────┴──────┴──────────┴───┴──────────┴───────────┴──────────┴────────┘"
      ]
     },
     "execution_count": 7,
     "metadata": {},
     "output_type": "execute_result"
    }
   ],
   "source": [
    "df.null_count()"
   ]
  },
  {
   "cell_type": "code",
   "execution_count": 8,
   "id": "d78165b5",
   "metadata": {},
   "outputs": [
    {
     "data": {
      "text/html": [
       "<div><style>\n",
       ".dataframe > thead > tr,\n",
       ".dataframe > tbody > tr {\n",
       "  text-align: right;\n",
       "  white-space: pre-wrap;\n",
       "}\n",
       "</style>\n",
       "<small>shape: (1, 3)</small><table border=\"1\" class=\"dataframe\"><thead><tr><th>postcode</th><th>latitude</th><th>longitude</th></tr><tr><td>u32</td><td>u32</td><td>u32</td></tr></thead><tbody><tr><td>0</td><td>0</td><td>0</td></tr></tbody></table></div>"
      ],
      "text/plain": [
       "shape: (1, 3)\n",
       "┌──────────┬──────────┬───────────┐\n",
       "│ postcode ┆ latitude ┆ longitude │\n",
       "│ ---      ┆ ---      ┆ ---       │\n",
       "│ u32      ┆ u32      ┆ u32       │\n",
       "╞══════════╪══════════╪═══════════╡\n",
       "│ 0        ┆ 0        ┆ 0         │\n",
       "└──────────┴──────────┴───────────┘"
      ]
     },
     "execution_count": 8,
     "metadata": {},
     "output_type": "execute_result"
    }
   ],
   "source": [
    "\n",
    "df2.null_count()"
   ]
  },
  {
   "cell_type": "markdown",
   "id": "d93b7489",
   "metadata": {},
   "source": [
    "6. check data types"
   ]
  },
  {
   "cell_type": "code",
   "execution_count": 9,
   "id": "d323bc2f",
   "metadata": {},
   "outputs": [
    {
     "data": {
      "text/plain": [
       "Schema([('id', String),\n",
       "        ('price', String),\n",
       "        ('date', String),\n",
       "        ('postcode', String),\n",
       "        ('property_type', String),\n",
       "        ('new', String),\n",
       "        ('duration', String),\n",
       "        ('paon', String),\n",
       "        ('saon', String),\n",
       "        ('street', String),\n",
       "        ('locality', String),\n",
       "        ('town_city', String),\n",
       "        ('district', String),\n",
       "        ('county', String)])"
      ]
     },
     "execution_count": 9,
     "metadata": {},
     "output_type": "execute_result"
    }
   ],
   "source": [
    "df.schema"
   ]
  },
  {
   "cell_type": "code",
   "execution_count": 10,
   "id": "66f5309a",
   "metadata": {},
   "outputs": [
    {
     "data": {
      "text/plain": [
       "Schema([('postcode', String), ('latitude', Float64), ('longitude', Float64)])"
      ]
     },
     "execution_count": 10,
     "metadata": {},
     "output_type": "execute_result"
    }
   ],
   "source": [
    "df2.schema"
   ]
  },
  {
   "cell_type": "markdown",
   "id": "3439009a",
   "metadata": {},
   "source": [
    "7. Standardize postcodes for future joining"
   ]
  },
  {
   "cell_type": "code",
   "execution_count": 11,
   "id": "06a7a917",
   "metadata": {},
   "outputs": [],
   "source": [
    "df = df.with_columns(\n",
    "    pl.col(\"postcode\")\n",
    "      .cast(pl.Utf8)\n",
    "      .str.strip_chars()\n",
    "      .str.to_uppercase()\n",
    "      .str.replace_all(r\"\\s+\", \" \")\n",
    "      .alias(\"postcode\")\n",
    ")\n",
    "\n",
    "df2 = df2.with_columns(\n",
    "    pl.col(\"postcode\")\n",
    "      .cast(pl.Utf8)\n",
    "      .str.strip_chars()\n",
    "      .str.to_uppercase()\n",
    "      .str.replace_all(r\"\\s+\", \" \")\n",
    "      .alias(\"postcode\")\n",
    ")"
   ]
  },
  {
   "cell_type": "markdown",
   "id": "15f2b6e8",
   "metadata": {},
   "source": [
    "8.Join dataframes into 1"
   ]
  },
  {
   "cell_type": "code",
   "execution_count": 12,
   "id": "144416ac",
   "metadata": {},
   "outputs": [],
   "source": [
    "df = df.join(\n",
    "    df2.select(\"postcode\", \"latitude\", \"longitude\"),\n",
    "    on=\"postcode\",\n",
    "    how=\"left\"\n",
    ")"
   ]
  },
  {
   "cell_type": "markdown",
   "id": "0d41fdb7",
   "metadata": {},
   "source": [
    "9. Replace \"\" with proper nulls as visually we are missing data."
   ]
  },
  {
   "cell_type": "code",
   "execution_count": 13,
   "id": "bbcc620d",
   "metadata": {},
   "outputs": [],
   "source": [
    "string_cols = [c for c, t in df.schema.items() if t == pl.Utf8]\n",
    "df = df.with_columns([\n",
    "    pl.when(pl.col(c) == \"\").then(None).otherwise(pl.col(c)).alias(c) for c in string_cols\n",
    "    ])"
   ]
  },
  {
   "cell_type": "markdown",
   "id": "a77b9de0",
   "metadata": {},
   "source": [
    "10.Second null check."
   ]
  },
  {
   "cell_type": "code",
   "execution_count": 14,
   "id": "ea7b8f80",
   "metadata": {},
   "outputs": [
    {
     "data": {
      "text/html": [
       "<div><style>\n",
       ".dataframe > thead > tr,\n",
       ".dataframe > tbody > tr {\n",
       "  text-align: right;\n",
       "  white-space: pre-wrap;\n",
       "}\n",
       "</style>\n",
       "<small>shape: (1, 16)</small><table border=\"1\" class=\"dataframe\"><thead><tr><th>id</th><th>price</th><th>date</th><th>postcode</th><th>property_type</th><th>new</th><th>duration</th><th>paon</th><th>saon</th><th>street</th><th>locality</th><th>town_city</th><th>district</th><th>county</th><th>latitude</th><th>longitude</th></tr><tr><td>u32</td><td>u32</td><td>u32</td><td>u32</td><td>u32</td><td>u32</td><td>u32</td><td>u32</td><td>u32</td><td>u32</td><td>u32</td><td>u32</td><td>u32</td><td>u32</td><td>u32</td><td>u32</td></tr></thead><tbody><tr><td>0</td><td>0</td><td>0</td><td>1169</td><td>0</td><td>0</td><td>0</td><td>21</td><td>1208175</td><td>1414</td><td>423423</td><td>0</td><td>0</td><td>0</td><td>1199</td><td>1199</td></tr></tbody></table></div>"
      ],
      "text/plain": [
       "shape: (1, 16)\n",
       "┌─────┬───────┬──────┬──────────┬───┬──────────┬────────┬──────────┬───────────┐\n",
       "│ id  ┆ price ┆ date ┆ postcode ┆ … ┆ district ┆ county ┆ latitude ┆ longitude │\n",
       "│ --- ┆ ---   ┆ ---  ┆ ---      ┆   ┆ ---      ┆ ---    ┆ ---      ┆ ---       │\n",
       "│ u32 ┆ u32   ┆ u32  ┆ u32      ┆   ┆ u32      ┆ u32    ┆ u32      ┆ u32       │\n",
       "╞═════╪═══════╪══════╪══════════╪═══╪══════════╪════════╪══════════╪═══════════╡\n",
       "│ 0   ┆ 0     ┆ 0    ┆ 1169     ┆ … ┆ 0        ┆ 0      ┆ 1199     ┆ 1199      │\n",
       "└─────┴───────┴──────┴──────────┴───┴──────────┴────────┴──────────┴───────────┘"
      ]
     },
     "execution_count": 14,
     "metadata": {},
     "output_type": "execute_result"
    }
   ],
   "source": [
    "df.null_count()\n"
   ]
  },
  {
   "cell_type": "markdown",
   "id": "56280cff",
   "metadata": {},
   "source": [
    "11. Concatenate Paon and saon as some addresses dont have a secondary address object and then drop the column"
   ]
  },
  {
   "cell_type": "code",
   "execution_count": 15,
   "id": "019628aa",
   "metadata": {},
   "outputs": [],
   "source": [
    "df = df.with_columns(\n",
    "    pl.when(pl.col(\"saon\").is_not_null() & (pl.col(\"saon\") != \"\"))\n",
    "      .then(pl.concat_str([pl.col(\"paon\"), pl.col(\"saon\")], separator=\", \"))\n",
    "      .otherwise(pl.col(\"paon\"))\n",
    "      .alias(\"paon\")\n",
    ").drop(\"saon\")\n",
    "\n"
   ]
  },
  {
   "cell_type": "markdown",
   "id": "4500d67f",
   "metadata": {},
   "source": [
    "12. check what records are missing the street."
   ]
  },
  {
   "cell_type": "code",
   "execution_count": null,
   "id": "1a270cee",
   "metadata": {},
   "outputs": [
    {
     "name": "stdout",
     "output_type": "stream",
     "text": [
      "shape: (1_414, 15)\n",
      "┌───────────┬───────────┬───────────┬──────────┬───┬───────────┬───────────┬───────────┬───────────┐\n",
      "│ id        ┆ price     ┆ date      ┆ postcode ┆ … ┆ district  ┆ county    ┆ latitude  ┆ longitude │\n",
      "│ ---       ┆ ---       ┆ ---       ┆ ---      ┆   ┆ ---       ┆ ---       ┆ ---       ┆ ---       │\n",
      "│ str       ┆ str       ┆ str       ┆ str      ┆   ┆ str       ┆ str       ┆ f64       ┆ f64       │\n",
      "╞═══════════╪═══════════╪═══════════╪══════════╪═══╪═══════════╪═══════════╪═══════════╪═══════════╡\n",
      "│ {76492375 ┆ 54,000.00 ┆ 2002-06-1 ┆ M34 3LY  ┆ … ┆ TAMESIDE  ┆ GREATER   ┆ 53.460581 ┆ -2.117257 │\n",
      "│ -1598-4FD ┆           ┆ 4 00:00   ┆          ┆   ┆           ┆ MANCHESTE ┆           ┆           │\n",
      "│ B-827E-B5 ┆           ┆           ┆          ┆   ┆           ┆ R         ┆           ┆           │\n",
      "│ A68…      ┆           ┆           ┆          ┆   ┆           ┆           ┆           ┆           │\n",
      "│ {5D5B84C7 ┆ 8,000.00  ┆ 2002-03-1 ┆ M6 5SH   ┆ … ┆ SALFORD   ┆ GREATER   ┆ 53.481799 ┆ -2.292474 │\n",
      "│ -0389-4C9 ┆           ┆ 8 00:00   ┆          ┆   ┆           ┆ MANCHESTE ┆           ┆           │\n",
      "│ C-A5DB-84 ┆           ┆           ┆          ┆   ┆           ┆ R         ┆           ┆           │\n",
      "│ 211…      ┆           ┆           ┆          ┆   ┆           ┆           ┆           ┆           │\n",
      "│ {45F78F60 ┆ 25,000.00 ┆ 1996-07-0 ┆ M40 5FW  ┆ … ┆ MANCHESTE ┆ GREATER   ┆ 53.507119 ┆ -2.189772 │\n",
      "│ -021C-4DD ┆           ┆ 5 00:00   ┆          ┆   ┆ R         ┆ MANCHESTE ┆           ┆           │\n",
      "│ E-8B9B-20 ┆           ┆           ┆          ┆   ┆           ┆ R         ┆           ┆           │\n",
      "│ C65…      ┆           ┆           ┆          ┆   ┆           ┆           ┆           ┆           │\n",
      "│ {0ADC45AD ┆ 19,950.00 ┆ 2000-12-2 ┆ OL9 7BZ  ┆ … ┆ OLDHAM    ┆ GREATER   ┆ 53.53261  ┆ -2.137777 │\n",
      "│ -2D4C-4B0 ┆           ┆ 1 00:00   ┆          ┆   ┆           ┆ MANCHESTE ┆           ┆           │\n",
      "│ 5-B575-D8 ┆           ┆           ┆          ┆   ┆           ┆ R         ┆           ┆           │\n",
      "│ A2B…      ┆           ┆           ┆          ┆   ┆           ┆           ┆           ┆           │\n",
      "│ {3A08F635 ┆ 26,000.00 ┆ 2006-05-1 ┆ M6 7LE   ┆ … ┆ SALFORD   ┆ GREATER   ┆ 53.50252  ┆ -2.302205 │\n",
      "│ -B0D2-400 ┆           ┆ 0 00:00   ┆          ┆   ┆           ┆ MANCHESTE ┆           ┆           │\n",
      "│ 0-9983-D5 ┆           ┆           ┆          ┆   ┆           ┆ R         ┆           ┆           │\n",
      "│ 6C6…      ┆           ┆           ┆          ┆   ┆           ┆           ┆           ┆           │\n",
      "│ …         ┆ …         ┆ …         ┆ …        ┆ … ┆ …         ┆ …         ┆ …         ┆ …         │\n",
      "│ {A35793D4 ┆ 9,500.00  ┆ 1999-12-0 ┆ M40 5FL  ┆ … ┆ MANCHESTE ┆ GREATER   ┆ 53.507722 ┆ -2.189247 │\n",
      "│ -13BC-432 ┆           ┆ 1 00:00   ┆          ┆   ┆ R         ┆ MANCHESTE ┆           ┆           │\n",
      "│ 5-8702-E1 ┆           ┆           ┆          ┆   ┆           ┆ R         ┆           ┆           │\n",
      "│ DC4…      ┆           ┆           ┆          ┆   ┆           ┆           ┆           ┆           │\n",
      "│ {F0CA2A01 ┆ 38,000.00 ┆ 1995-04-1 ┆ BL5 2RA  ┆ … ┆ BOLTON    ┆ GREATER   ┆ 53.534273 ┆ -2.528049 │\n",
      "│ -F454-495 ┆           ┆ 3 00:00   ┆          ┆   ┆           ┆ MANCHESTE ┆           ┆           │\n",
      "│ 5-A8B8-0B ┆           ┆           ┆          ┆   ┆           ┆ R         ┆           ┆           │\n",
      "│ 35F…      ┆           ┆           ┆          ┆   ┆           ┆           ┆           ┆           │\n",
      "│ {A96E4ACC ┆ 260,000.0 ┆ 2020-04-2 ┆ OL3 5LB  ┆ … ┆ OLDHAM    ┆ GREATER   ┆ 53.569161 ┆ -1.975106 │\n",
      "│ -4FFB-920 ┆ 0         ┆ 4 00:00   ┆          ┆   ┆           ┆ MANCHESTE ┆           ┆           │\n",
      "│ 5-E053-6C ┆           ┆           ┆          ┆   ┆           ┆ R         ┆           ┆           │\n",
      "│ 04A…      ┆           ┆           ┆          ┆   ┆           ┆           ┆           ┆           │\n",
      "│ {122EA0D7 ┆ 19,000.00 ┆ 1995-08-3 ┆ M7 1NF   ┆ … ┆ SALFORD   ┆ GREATER   ┆ 53.497538 ┆ -2.261015 │\n",
      "│ -7086-4E8 ┆           ┆ 1 00:00   ┆          ┆   ┆           ┆ MANCHESTE ┆           ┆           │\n",
      "│ 9-9833-EB ┆           ┆           ┆          ┆   ┆           ┆ R         ┆           ┆           │\n",
      "│ 18F…      ┆           ┆           ┆          ┆   ┆           ┆           ┆           ┆           │\n",
      "│ {1D460B83 ┆ 8,500.00  ┆ 2002-11-2 ┆ M6 5RZ   ┆ … ┆ SALFORD   ┆ GREATER   ┆ 53.482917 ┆ -2.291276 │\n",
      "│ -B115-487 ┆           ┆ 9 00:00   ┆          ┆   ┆           ┆ MANCHESTE ┆           ┆           │\n",
      "│ D-9F4C-47 ┆           ┆           ┆          ┆   ┆           ┆ R         ┆           ┆           │\n",
      "│ 431…      ┆           ┆           ┆          ┆   ┆           ┆           ┆           ┆           │\n",
      "└───────────┴───────────┴───────────┴──────────┴───┴───────────┴───────────┴───────────┴───────────┘\n"
     ]
    }
   ],
   "source": [
    "null_street = df.filter(pl.col(\"street\").is_null())\n",
    "print(null_street)\n"
   ]
  },
  {
   "cell_type": "markdown",
   "id": "63e5b8a3",
   "metadata": {},
   "source": [
    "13. Drop rows with missing postcodes and the whole locality column as we have the district-city-county columns"
   ]
  },
  {
   "cell_type": "code",
   "execution_count": 17,
   "id": "2e494c3d",
   "metadata": {},
   "outputs": [],
   "source": [
    "df = df.drop_nulls(subset=[\"postcode\"])\n",
    "df = df.drop(\"locality\")\n"
   ]
  },
  {
   "cell_type": "markdown",
   "id": "715c0211",
   "metadata": {},
   "source": [
    "14. make sure post code is in the right format"
   ]
  },
  {
   "cell_type": "code",
   "execution_count": 18,
   "id": "9b28fbcf",
   "metadata": {},
   "outputs": [],
   "source": [
    "df = df.with_columns(\n",
    "    pl.col(\"postcode\")\n",
    "      .str.strip_chars()\n",
    "      .str.to_uppercase()\n",
    "      .str.replace_all(r\"\\s+\", \" \")\n",
    "      .alias(\"postcode\")\n",
    ")\n",
    "\n"
   ]
  },
  {
   "cell_type": "markdown",
   "id": "82510812",
   "metadata": {},
   "source": [
    "15. check whats next in the cleaning docket"
   ]
  },
  {
   "cell_type": "code",
   "execution_count": 19,
   "id": "eaa04b69",
   "metadata": {},
   "outputs": [
    {
     "data": {
      "text/html": [
       "<div><style>\n",
       ".dataframe > thead > tr,\n",
       ".dataframe > tbody > tr {\n",
       "  text-align: right;\n",
       "  white-space: pre-wrap;\n",
       "}\n",
       "</style>\n",
       "<small>shape: (5, 14)</small><table border=\"1\" class=\"dataframe\"><thead><tr><th>id</th><th>price</th><th>date</th><th>postcode</th><th>property_type</th><th>new</th><th>duration</th><th>paon</th><th>street</th><th>town_city</th><th>district</th><th>county</th><th>latitude</th><th>longitude</th></tr><tr><td>str</td><td>str</td><td>str</td><td>str</td><td>str</td><td>str</td><td>str</td><td>str</td><td>str</td><td>str</td><td>str</td><td>str</td><td>f64</td><td>f64</td></tr></thead><tbody><tr><td>&quot;{D93B27B1-CBD4-3100-E053-6C04A…</td><td>&quot;140,000.00&quot;</td><td>&quot;2022-02-16 00:00&quot;</td><td>&quot;SK16 4DT&quot;</td><td>&quot;T&quot;</td><td>&quot;N&quot;</td><td>&quot;F&quot;</td><td>&quot;70&quot;</td><td>&quot;CHAPEL STREET&quot;</td><td>&quot;DUKINFIELD&quot;</td><td>&quot;TAMESIDE&quot;</td><td>&quot;GREATER MANCHESTER&quot;</td><td>53.477466</td><td>-2.091735</td></tr><tr><td>&quot;{2ACACE8D-02B4-295E-E063-4804A…</td><td>&quot;278,000.00&quot;</td><td>&quot;2024-11-29 00:00&quot;</td><td>&quot;SK6 1QW&quot;</td><td>&quot;S&quot;</td><td>&quot;N&quot;</td><td>&quot;F&quot;</td><td>&quot;1&quot;</td><td>&quot;BRIAR GROVE&quot;</td><td>&quot;STOCKPORT&quot;</td><td>&quot;STOCKPORT&quot;</td><td>&quot;GREATER MANCHESTER&quot;</td><td>53.427355</td><td>-2.102642</td></tr><tr><td>&quot;{01EB45EF-F1B0-40F3-E063-4704A…</td><td>&quot;345,448.00&quot;</td><td>&quot;2022-02-11 00:00&quot;</td><td>&quot;M1 2EY&quot;</td><td>&quot;F&quot;</td><td>&quot;Y&quot;</td><td>&quot;L&quot;</td><td>&quot;72, FLAT 902&quot;</td><td>&quot;CHAPELTOWN STREET&quot;</td><td>&quot;MANCHESTER&quot;</td><td>&quot;MANCHESTER&quot;</td><td>&quot;GREATER MANCHESTER&quot;</td><td>53.478898</td><td>-2.224708</td></tr><tr><td>&quot;{879537F9-FB6B-4663-A0E5-5E407…</td><td>&quot;93,000.00&quot;</td><td>&quot;2004-09-22 00:00&quot;</td><td>&quot;BL8 2RR&quot;</td><td>&quot;T&quot;</td><td>&quot;N&quot;</td><td>&quot;L&quot;</td><td>&quot;43&quot;</td><td>&quot;NEWBOLD STREET&quot;</td><td>&quot;BURY&quot;</td><td>&quot;BURY&quot;</td><td>&quot;GREATER MANCHESTER&quot;</td><td>53.594024</td><td>-2.318071</td></tr><tr><td>&quot;{7011B10A-2B91-8ED6-E053-6B04A…</td><td>&quot;80,000.00&quot;</td><td>&quot;2018-05-03 00:00&quot;</td><td>&quot;BL3 4HE&quot;</td><td>&quot;T&quot;</td><td>&quot;N&quot;</td><td>&quot;F&quot;</td><td>&quot;243&quot;</td><td>&quot;WILLOWS LANE&quot;</td><td>&quot;BOLTON&quot;</td><td>&quot;BOLTON&quot;</td><td>&quot;GREATER MANCHESTER&quot;</td><td>53.56682</td><td>-2.458227</td></tr></tbody></table></div>"
      ],
      "text/plain": [
       "shape: (5, 14)\n",
       "┌───────────┬───────────┬───────────┬──────────┬───┬───────────┬───────────┬───────────┬───────────┐\n",
       "│ id        ┆ price     ┆ date      ┆ postcode ┆ … ┆ district  ┆ county    ┆ latitude  ┆ longitude │\n",
       "│ ---       ┆ ---       ┆ ---       ┆ ---      ┆   ┆ ---       ┆ ---       ┆ ---       ┆ ---       │\n",
       "│ str       ┆ str       ┆ str       ┆ str      ┆   ┆ str       ┆ str       ┆ f64       ┆ f64       │\n",
       "╞═══════════╪═══════════╪═══════════╪══════════╪═══╪═══════════╪═══════════╪═══════════╪═══════════╡\n",
       "│ {D93B27B1 ┆ 140,000.0 ┆ 2022-02-1 ┆ SK16 4DT ┆ … ┆ TAMESIDE  ┆ GREATER   ┆ 53.477466 ┆ -2.091735 │\n",
       "│ -CBD4-310 ┆ 0         ┆ 6 00:00   ┆          ┆   ┆           ┆ MANCHESTE ┆           ┆           │\n",
       "│ 0-E053-6C ┆           ┆           ┆          ┆   ┆           ┆ R         ┆           ┆           │\n",
       "│ 04A…      ┆           ┆           ┆          ┆   ┆           ┆           ┆           ┆           │\n",
       "│ {2ACACE8D ┆ 278,000.0 ┆ 2024-11-2 ┆ SK6 1QW  ┆ … ┆ STOCKPORT ┆ GREATER   ┆ 53.427355 ┆ -2.102642 │\n",
       "│ -02B4-295 ┆ 0         ┆ 9 00:00   ┆          ┆   ┆           ┆ MANCHESTE ┆           ┆           │\n",
       "│ E-E063-48 ┆           ┆           ┆          ┆   ┆           ┆ R         ┆           ┆           │\n",
       "│ 04A…      ┆           ┆           ┆          ┆   ┆           ┆           ┆           ┆           │\n",
       "│ {01EB45EF ┆ 345,448.0 ┆ 2022-02-1 ┆ M1 2EY   ┆ … ┆ MANCHESTE ┆ GREATER   ┆ 53.478898 ┆ -2.224708 │\n",
       "│ -F1B0-40F ┆ 0         ┆ 1 00:00   ┆          ┆   ┆ R         ┆ MANCHESTE ┆           ┆           │\n",
       "│ 3-E063-47 ┆           ┆           ┆          ┆   ┆           ┆ R         ┆           ┆           │\n",
       "│ 04A…      ┆           ┆           ┆          ┆   ┆           ┆           ┆           ┆           │\n",
       "│ {879537F9 ┆ 93,000.00 ┆ 2004-09-2 ┆ BL8 2RR  ┆ … ┆ BURY      ┆ GREATER   ┆ 53.594024 ┆ -2.318071 │\n",
       "│ -FB6B-466 ┆           ┆ 2 00:00   ┆          ┆   ┆           ┆ MANCHESTE ┆           ┆           │\n",
       "│ 3-A0E5-5E ┆           ┆           ┆          ┆   ┆           ┆ R         ┆           ┆           │\n",
       "│ 407…      ┆           ┆           ┆          ┆   ┆           ┆           ┆           ┆           │\n",
       "│ {7011B10A ┆ 80,000.00 ┆ 2018-05-0 ┆ BL3 4HE  ┆ … ┆ BOLTON    ┆ GREATER   ┆ 53.56682  ┆ -2.458227 │\n",
       "│ -2B91-8ED ┆           ┆ 3 00:00   ┆          ┆   ┆           ┆ MANCHESTE ┆           ┆           │\n",
       "│ 6-E053-6B ┆           ┆           ┆          ┆   ┆           ┆ R         ┆           ┆           │\n",
       "│ 04A…      ┆           ┆           ┆          ┆   ┆           ┆           ┆           ┆           │\n",
       "└───────────┴───────────┴───────────┴──────────┴───┴───────────┴───────────┴───────────┴───────────┘"
      ]
     },
     "execution_count": 19,
     "metadata": {},
     "output_type": "execute_result"
    }
   ],
   "source": [
    "df.head(5)"
   ]
  },
  {
   "cell_type": "markdown",
   "id": "cec05fb2",
   "metadata": {},
   "source": [
    "16. remove the hours from the date as its not needed for a cleaner date and it will interfere with the analysis further down"
   ]
  },
  {
   "cell_type": "code",
   "execution_count": 20,
   "id": "1f195433",
   "metadata": {},
   "outputs": [],
   "source": [
    "df = df.with_columns(\n",
    "    pl.col(\"date\").str.slice(0, 10).str.strptime(pl.Date, format=\"%Y-%m-%d\", strict=True).alias(\"date\")\n",
    ")\n",
    "\n"
   ]
  },
  {
   "cell_type": "markdown",
   "id": "567fef33",
   "metadata": {},
   "source": [
    "17. change the price to a float"
   ]
  },
  {
   "cell_type": "code",
   "execution_count": 21,
   "id": "1ce59c84",
   "metadata": {},
   "outputs": [],
   "source": [
    "df = df.with_columns(\n",
    "    pl.col(\"price\")\n",
    "      .str.replace_all(\",\", \"\")\n",
    "      .cast(pl.Float64)\n",
    "      .alias(\"price\")\n",
    ")\n",
    "\n"
   ]
  },
  {
   "cell_type": "markdown",
   "id": "ed69e641",
   "metadata": {},
   "source": [
    "18.Separate the date into individual yyyy/mm/dd columns for easier analysis"
   ]
  },
  {
   "cell_type": "code",
   "execution_count": 22,
   "id": "e8df39bb",
   "metadata": {},
   "outputs": [],
   "source": [
    "df = df.with_columns([\n",
    "    pl.col(\"date\").dt.year().alias(\"sale_year\"),\n",
    "    pl.col(\"date\").dt.month().alias(\"sale_month\"),\n",
    "    pl.col(\"date\").dt.quarter().alias(\"sale_quarter\")\n",
    "])"
   ]
  },
  {
   "cell_type": "markdown",
   "id": "a9cbf430",
   "metadata": {},
   "source": [
    "19.Prepare the street column to fill the missing values by filling missing values with the street from the same postcode"
   ]
  },
  {
   "cell_type": "code",
   "execution_count": 24,
   "id": "aba5fbae",
   "metadata": {},
   "outputs": [],
   "source": [
    "df_non_null_street = df.filter(pl.col(\"street\").is_not_null())"
   ]
  },
  {
   "cell_type": "markdown",
   "id": "fb043cff",
   "metadata": {},
   "source": []
  },
  {
   "cell_type": "code",
   "execution_count": 25,
   "id": "5e3d67ef",
   "metadata": {},
   "outputs": [],
   "source": [
    "postcode_mode_list = (\n",
    "    df_non_null_street\n",
    "    .group_by(\"postcode\")\n",
    "    .agg(\n",
    "        pl.col(\"street\").mode().alias(\"street_modes\")\n",
    "    )\n",
    ")"
   ]
  },
  {
   "cell_type": "code",
   "execution_count": 26,
   "id": "dcae641d",
   "metadata": {},
   "outputs": [],
   "source": [
    "postcode_fill = postcode_mode_list.with_columns(\n",
    "    pl.col(\"street_modes\").list.first().alias(\"imputed_street\")\n",
    ").drop(\"street_modes\")"
   ]
  },
  {
   "cell_type": "markdown",
   "id": "96915c31",
   "metadata": {},
   "source": [
    "21. Fill empty streets with the common street for the postcode"
   ]
  },
  {
   "cell_type": "code",
   "execution_count": 27,
   "id": "f41d3b13",
   "metadata": {},
   "outputs": [],
   "source": [
    "df_joined = df.join(postcode_fill, on=\"postcode\", how=\"left\")"
   ]
  },
  {
   "cell_type": "code",
   "execution_count": 28,
   "id": "b11f336b",
   "metadata": {},
   "outputs": [],
   "source": [
    "df_filled = df_joined.with_columns(\n",
    "    pl.when(pl.col(\"street\").is_null())\n",
    "      .then(pl.col(\"imputed_street\"))\n",
    "      .otherwise(pl.col(\"street\"))\n",
    "      .alias(\"street\")\n",
    ").drop(\"imputed_street\")"
   ]
  },
  {
   "cell_type": "markdown",
   "id": "587b85ae",
   "metadata": {},
   "source": [
    "22. check the new null count"
   ]
  },
  {
   "cell_type": "code",
   "execution_count": 29,
   "id": "0d8c86b5",
   "metadata": {},
   "outputs": [
    {
     "data": {
      "text/html": [
       "<div><style>\n",
       ".dataframe > thead > tr,\n",
       ".dataframe > tbody > tr {\n",
       "  text-align: right;\n",
       "  white-space: pre-wrap;\n",
       "}\n",
       "</style>\n",
       "<small>shape: (1, 17)</small><table border=\"1\" class=\"dataframe\"><thead><tr><th>id</th><th>price</th><th>date</th><th>postcode</th><th>property_type</th><th>new</th><th>duration</th><th>paon</th><th>street</th><th>town_city</th><th>district</th><th>county</th><th>latitude</th><th>longitude</th><th>sale_year</th><th>sale_month</th><th>sale_quarter</th></tr><tr><td>u32</td><td>u32</td><td>u32</td><td>u32</td><td>u32</td><td>u32</td><td>u32</td><td>u32</td><td>u32</td><td>u32</td><td>u32</td><td>u32</td><td>u32</td><td>u32</td><td>u32</td><td>u32</td><td>u32</td></tr></thead><tbody><tr><td>0</td><td>0</td><td>0</td><td>0</td><td>0</td><td>0</td><td>0</td><td>21</td><td>620</td><td>0</td><td>0</td><td>0</td><td>30</td><td>30</td><td>0</td><td>0</td><td>0</td></tr></tbody></table></div>"
      ],
      "text/plain": [
       "shape: (1, 17)\n",
       "┌─────┬───────┬──────┬──────────┬───┬───────────┬───────────┬────────────┬──────────────┐\n",
       "│ id  ┆ price ┆ date ┆ postcode ┆ … ┆ longitude ┆ sale_year ┆ sale_month ┆ sale_quarter │\n",
       "│ --- ┆ ---   ┆ ---  ┆ ---      ┆   ┆ ---       ┆ ---       ┆ ---        ┆ ---          │\n",
       "│ u32 ┆ u32   ┆ u32  ┆ u32      ┆   ┆ u32       ┆ u32       ┆ u32        ┆ u32          │\n",
       "╞═════╪═══════╪══════╪══════════╪═══╪═══════════╪═══════════╪════════════╪══════════════╡\n",
       "│ 0   ┆ 0     ┆ 0    ┆ 0        ┆ … ┆ 30        ┆ 0         ┆ 0          ┆ 0            │\n",
       "└─────┴───────┴──────┴──────────┴───┴───────────┴───────────┴────────────┴──────────────┘"
      ]
     },
     "execution_count": 29,
     "metadata": {},
     "output_type": "execute_result"
    }
   ],
   "source": [
    "df_filled.null_count()"
   ]
  },
  {
   "cell_type": "markdown",
   "id": "93de946c",
   "metadata": {},
   "source": [
    "23. fill missing street and primary address object with not applicable"
   ]
  },
  {
   "cell_type": "code",
   "execution_count": 30,
   "id": "c9a0cb43",
   "metadata": {},
   "outputs": [],
   "source": [
    "df_filled = df_filled.with_columns([\n",
    "    pl.col(\"paon\").fill_null(\"N/A\"),\n",
    "    pl.col(\"street\").fill_null(\"N/A\")\n",
    "])"
   ]
  },
  {
   "cell_type": "markdown",
   "id": "6b6de481",
   "metadata": {},
   "source": [
    "24. Standardize and change data type for the category columns"
   ]
  },
  {
   "cell_type": "code",
   "execution_count": 31,
   "id": "c481351a",
   "metadata": {},
   "outputs": [],
   "source": [
    "categorical_cols = [\"property_type\", \"duration\", \"new\"]\n",
    "\n",
    "for col in categorical_cols:\n",
    "    if col in df_filled.columns:\n",
    "        df_filled = df_filled.with_columns(\n",
    "            pl.col(col)\n",
    "            .str.strip_chars()\n",
    "            .str.to_lowercase()\n",
    "            .cast(pl.Categorical)\n",
    "            .alias(col)\n",
    "        )"
   ]
  },
  {
   "cell_type": "markdown",
   "id": "9b58e7cb",
   "metadata": {},
   "source": [
    "25. final data check before analysis."
   ]
  },
  {
   "cell_type": "code",
   "execution_count": 32,
   "id": "ad97b687",
   "metadata": {},
   "outputs": [
    {
     "data": {
      "text/html": [
       "<div><style>\n",
       ".dataframe > thead > tr,\n",
       ".dataframe > tbody > tr {\n",
       "  text-align: right;\n",
       "  white-space: pre-wrap;\n",
       "}\n",
       "</style>\n",
       "<small>shape: (5, 17)</small><table border=\"1\" class=\"dataframe\"><thead><tr><th>id</th><th>price</th><th>date</th><th>postcode</th><th>property_type</th><th>new</th><th>duration</th><th>paon</th><th>street</th><th>town_city</th><th>district</th><th>county</th><th>latitude</th><th>longitude</th><th>sale_year</th><th>sale_month</th><th>sale_quarter</th></tr><tr><td>str</td><td>f64</td><td>date</td><td>str</td><td>cat</td><td>cat</td><td>cat</td><td>str</td><td>str</td><td>str</td><td>str</td><td>str</td><td>f64</td><td>f64</td><td>i32</td><td>i8</td><td>i8</td></tr></thead><tbody><tr><td>&quot;{D93B27B1-CBD4-3100-E053-6C04A…</td><td>140000.0</td><td>2022-02-16</td><td>&quot;SK16 4DT&quot;</td><td>&quot;t&quot;</td><td>&quot;n&quot;</td><td>&quot;f&quot;</td><td>&quot;70&quot;</td><td>&quot;CHAPEL STREET&quot;</td><td>&quot;DUKINFIELD&quot;</td><td>&quot;TAMESIDE&quot;</td><td>&quot;GREATER MANCHESTER&quot;</td><td>53.477466</td><td>-2.091735</td><td>2022</td><td>2</td><td>1</td></tr><tr><td>&quot;{2ACACE8D-02B4-295E-E063-4804A…</td><td>278000.0</td><td>2024-11-29</td><td>&quot;SK6 1QW&quot;</td><td>&quot;s&quot;</td><td>&quot;n&quot;</td><td>&quot;f&quot;</td><td>&quot;1&quot;</td><td>&quot;BRIAR GROVE&quot;</td><td>&quot;STOCKPORT&quot;</td><td>&quot;STOCKPORT&quot;</td><td>&quot;GREATER MANCHESTER&quot;</td><td>53.427355</td><td>-2.102642</td><td>2024</td><td>11</td><td>4</td></tr><tr><td>&quot;{01EB45EF-F1B0-40F3-E063-4704A…</td><td>345448.0</td><td>2022-02-11</td><td>&quot;M1 2EY&quot;</td><td>&quot;f&quot;</td><td>&quot;y&quot;</td><td>&quot;l&quot;</td><td>&quot;72, FLAT 902&quot;</td><td>&quot;CHAPELTOWN STREET&quot;</td><td>&quot;MANCHESTER&quot;</td><td>&quot;MANCHESTER&quot;</td><td>&quot;GREATER MANCHESTER&quot;</td><td>53.478898</td><td>-2.224708</td><td>2022</td><td>2</td><td>1</td></tr><tr><td>&quot;{879537F9-FB6B-4663-A0E5-5E407…</td><td>93000.0</td><td>2004-09-22</td><td>&quot;BL8 2RR&quot;</td><td>&quot;t&quot;</td><td>&quot;n&quot;</td><td>&quot;l&quot;</td><td>&quot;43&quot;</td><td>&quot;NEWBOLD STREET&quot;</td><td>&quot;BURY&quot;</td><td>&quot;BURY&quot;</td><td>&quot;GREATER MANCHESTER&quot;</td><td>53.594024</td><td>-2.318071</td><td>2004</td><td>9</td><td>3</td></tr><tr><td>&quot;{7011B10A-2B91-8ED6-E053-6B04A…</td><td>80000.0</td><td>2018-05-03</td><td>&quot;BL3 4HE&quot;</td><td>&quot;t&quot;</td><td>&quot;n&quot;</td><td>&quot;f&quot;</td><td>&quot;243&quot;</td><td>&quot;WILLOWS LANE&quot;</td><td>&quot;BOLTON&quot;</td><td>&quot;BOLTON&quot;</td><td>&quot;GREATER MANCHESTER&quot;</td><td>53.56682</td><td>-2.458227</td><td>2018</td><td>5</td><td>2</td></tr></tbody></table></div>"
      ],
      "text/plain": [
       "shape: (5, 17)\n",
       "┌────────────┬──────────┬───────────┬──────────┬───┬───────────┬───────────┬───────────┬───────────┐\n",
       "│ id         ┆ price    ┆ date      ┆ postcode ┆ … ┆ longitude ┆ sale_year ┆ sale_mont ┆ sale_quar │\n",
       "│ ---        ┆ ---      ┆ ---       ┆ ---      ┆   ┆ ---       ┆ ---       ┆ h         ┆ ter       │\n",
       "│ str        ┆ f64      ┆ date      ┆ str      ┆   ┆ f64       ┆ i32       ┆ ---       ┆ ---       │\n",
       "│            ┆          ┆           ┆          ┆   ┆           ┆           ┆ i8        ┆ i8        │\n",
       "╞════════════╪══════════╪═══════════╪══════════╪═══╪═══════════╪═══════════╪═══════════╪═══════════╡\n",
       "│ {D93B27B1- ┆ 140000.0 ┆ 2022-02-1 ┆ SK16 4DT ┆ … ┆ -2.091735 ┆ 2022      ┆ 2         ┆ 1         │\n",
       "│ CBD4-3100- ┆          ┆ 6         ┆          ┆   ┆           ┆           ┆           ┆           │\n",
       "│ E053-6C04A ┆          ┆           ┆          ┆   ┆           ┆           ┆           ┆           │\n",
       "│ …          ┆          ┆           ┆          ┆   ┆           ┆           ┆           ┆           │\n",
       "│ {2ACACE8D- ┆ 278000.0 ┆ 2024-11-2 ┆ SK6 1QW  ┆ … ┆ -2.102642 ┆ 2024      ┆ 11        ┆ 4         │\n",
       "│ 02B4-295E- ┆          ┆ 9         ┆          ┆   ┆           ┆           ┆           ┆           │\n",
       "│ E063-4804A ┆          ┆           ┆          ┆   ┆           ┆           ┆           ┆           │\n",
       "│ …          ┆          ┆           ┆          ┆   ┆           ┆           ┆           ┆           │\n",
       "│ {01EB45EF- ┆ 345448.0 ┆ 2022-02-1 ┆ M1 2EY   ┆ … ┆ -2.224708 ┆ 2022      ┆ 2         ┆ 1         │\n",
       "│ F1B0-40F3- ┆          ┆ 1         ┆          ┆   ┆           ┆           ┆           ┆           │\n",
       "│ E063-4704A ┆          ┆           ┆          ┆   ┆           ┆           ┆           ┆           │\n",
       "│ …          ┆          ┆           ┆          ┆   ┆           ┆           ┆           ┆           │\n",
       "│ {879537F9- ┆ 93000.0  ┆ 2004-09-2 ┆ BL8 2RR  ┆ … ┆ -2.318071 ┆ 2004      ┆ 9         ┆ 3         │\n",
       "│ FB6B-4663- ┆          ┆ 2         ┆          ┆   ┆           ┆           ┆           ┆           │\n",
       "│ A0E5-5E407 ┆          ┆           ┆          ┆   ┆           ┆           ┆           ┆           │\n",
       "│ …          ┆          ┆           ┆          ┆   ┆           ┆           ┆           ┆           │\n",
       "│ {7011B10A- ┆ 80000.0  ┆ 2018-05-0 ┆ BL3 4HE  ┆ … ┆ -2.458227 ┆ 2018      ┆ 5         ┆ 2         │\n",
       "│ 2B91-8ED6- ┆          ┆ 3         ┆          ┆   ┆           ┆           ┆           ┆           │\n",
       "│ E053-6B04A ┆          ┆           ┆          ┆   ┆           ┆           ┆           ┆           │\n",
       "│ …          ┆          ┆           ┆          ┆   ┆           ┆           ┆           ┆           │\n",
       "└────────────┴──────────┴───────────┴──────────┴───┴───────────┴───────────┴───────────┴───────────┘"
      ]
     },
     "execution_count": 32,
     "metadata": {},
     "output_type": "execute_result"
    }
   ],
   "source": [
    "df_filled.head(5)"
   ]
  },
  {
   "cell_type": "code",
   "execution_count": 33,
   "id": "92d33a28",
   "metadata": {},
   "outputs": [
    {
     "data": {
      "text/plain": [
       "Schema([('id', String),\n",
       "        ('price', Float64),\n",
       "        ('date', Date),\n",
       "        ('postcode', String),\n",
       "        ('property_type', Categorical),\n",
       "        ('new', Categorical),\n",
       "        ('duration', Categorical),\n",
       "        ('paon', String),\n",
       "        ('street', String),\n",
       "        ('town_city', String),\n",
       "        ('district', String),\n",
       "        ('county', String),\n",
       "        ('latitude', Float64),\n",
       "        ('longitude', Float64),\n",
       "        ('sale_year', Int32),\n",
       "        ('sale_month', Int8),\n",
       "        ('sale_quarter', Int8)])"
      ]
     },
     "execution_count": 33,
     "metadata": {},
     "output_type": "execute_result"
    }
   ],
   "source": [
    "df_filled.schema"
   ]
  },
  {
   "cell_type": "markdown",
   "id": "95ca8a50",
   "metadata": {},
   "source": [
    "26. Looks good ready for pipeline implementation"
   ]
  }
 ],
 "metadata": {
  "kernelspec": {
   "display_name": ".venv",
   "language": "python",
   "name": "python3"
  },
  "language_info": {
   "codemirror_mode": {
    "name": "ipython",
    "version": 3
   },
   "file_extension": ".py",
   "mimetype": "text/x-python",
   "name": "python",
   "nbconvert_exporter": "python",
   "pygments_lexer": "ipython3",
   "version": "3.13.2"
  }
 },
 "nbformat": 4,
 "nbformat_minor": 5
}
