{
 "cells": [
  {
   "cell_type": "code",
   "execution_count": null,
   "id": "50eb2019",
   "metadata": {},
   "outputs": [],
   "source": [
    "import polars as pl"
   ]
  },
  {
   "cell_type": "code",
   "execution_count": null,
   "id": "ba16cc7f",
   "metadata": {},
   "outputs": [],
   "source": [
    "df = pl.read_parquet(\"data/pp_data_man.parquet\")\n",
    "df2 = pl.read_parquet(\"data/pc_man.parquet\")"
   ]
  },
  {
   "cell_type": "code",
   "execution_count": null,
   "id": "b8367e89",
   "metadata": {},
   "outputs": [],
   "source": [
    "df.head(5)"
   ]
  },
  {
   "cell_type": "code",
   "execution_count": null,
   "id": "f75ab4bd",
   "metadata": {},
   "outputs": [],
   "source": [
    "df2.head(5)"
   ]
  },
  {
   "cell_type": "code",
   "execution_count": null,
   "id": "78104459",
   "metadata": {},
   "outputs": [],
   "source": [
    "df.columns = [\n",
    "    \"id\", \"price\", \"date\", \"postcode\", \"property_type\", \"new\", \"duration\",\n",
    "    \"paon\", \"saon\", \"street\", \"locality\", \"town_city\", \"district\", \"county\"\n",
    "]\n",
    "df2 = df2.rename({\"pcds\": \"postcode\", \"lat\": \"latitude\", \"long\": \"longitude\"})"
   ]
  },
  {
   "cell_type": "code",
   "execution_count": null,
   "id": "b1333946",
   "metadata": {},
   "outputs": [],
   "source": [
    "df.select(pl.col(\"saon\")).head(10)\n"
   ]
  },
  {
   "cell_type": "code",
   "execution_count": null,
   "id": "ba3f197c",
   "metadata": {},
   "outputs": [],
   "source": [
    "df.null_count()"
   ]
  },
  {
   "cell_type": "code",
   "execution_count": null,
   "id": "d78165b5",
   "metadata": {},
   "outputs": [],
   "source": [
    "\n",
    "df2.null_count()"
   ]
  },
  {
   "cell_type": "code",
   "execution_count": null,
   "id": "d323bc2f",
   "metadata": {},
   "outputs": [],
   "source": [
    "df.schema"
   ]
  },
  {
   "cell_type": "code",
   "execution_count": null,
   "id": "66f5309a",
   "metadata": {},
   "outputs": [],
   "source": [
    "df2.schema"
   ]
  },
  {
   "cell_type": "code",
   "execution_count": null,
   "id": "06a7a917",
   "metadata": {},
   "outputs": [],
   "source": [
    "df = df.with_columns(\n",
    "    pl.col(\"postcode\")\n",
    "      .cast(pl.Utf8)\n",
    "      .str.strip_chars()\n",
    "      .str.to_uppercase()\n",
    "      .str.replace_all(r\"\\s+\", \" \")\n",
    "      .alias(\"postcode\")\n",
    ")\n",
    "\n",
    "df2 = df2.with_columns(\n",
    "    pl.col(\"postcode\")\n",
    "      .cast(pl.Utf8)\n",
    "      .str.strip_chars()\n",
    "      .str.to_uppercase()\n",
    "      .str.replace_all(r\"\\s+\", \" \")\n",
    "      .alias(\"postcode\")\n",
    ")"
   ]
  },
  {
   "cell_type": "code",
   "execution_count": null,
   "id": "144416ac",
   "metadata": {},
   "outputs": [],
   "source": [
    "df = df.join(\n",
    "    df2.select(\"postcode\", \"latitude\", \"longitude\"),\n",
    "    on=\"postcode\",\n",
    "    how=\"left\"\n",
    ")"
   ]
  },
  {
   "cell_type": "code",
   "execution_count": null,
   "id": "bbcc620d",
   "metadata": {},
   "outputs": [],
   "source": [
    "string_cols = [c for c, t in df.schema.items() if t == pl.Utf8]\n",
    "df = df.with_columns([\n",
    "    pl.when(pl.col(c) == \"\").then(None).otherwise(pl.col(c)).alias(c) for c in string_cols\n",
    "    ])"
   ]
  },
  {
   "cell_type": "code",
   "execution_count": null,
   "id": "ea7b8f80",
   "metadata": {},
   "outputs": [],
   "source": [
    "df.null_count()\n"
   ]
  },
  {
   "cell_type": "code",
   "execution_count": null,
   "id": "019628aa",
   "metadata": {},
   "outputs": [],
   "source": [
    "df = df.with_columns(\n",
    "    pl.when(pl.col(\"saon\").is_not_null() & (pl.col(\"saon\") != \"\"))\n",
    "      .then(pl.concat_str([pl.col(\"paon\"), pl.col(\"saon\")], separator=\", \"))\n",
    "      .otherwise(pl.col(\"paon\"))\n",
    "      .alias(\"paon\")\n",
    ").drop(\"saon\")\n",
    "\n"
   ]
  },
  {
   "cell_type": "code",
   "execution_count": null,
   "id": "1a270cee",
   "metadata": {},
   "outputs": [],
   "source": [
    "null_paon = df.filter(pl.col(\"street\").is_null())\n",
    "print(null_paon)\n"
   ]
  },
  {
   "cell_type": "code",
   "execution_count": null,
   "id": "2e494c3d",
   "metadata": {},
   "outputs": [],
   "source": [
    "df = df.drop_nulls(subset=[\"postcode\"])\n",
    "df = df.drop(\"locality\")\n"
   ]
  },
  {
   "cell_type": "code",
   "execution_count": null,
   "id": "9b28fbcf",
   "metadata": {},
   "outputs": [],
   "source": [
    "df = df.with_columns(\n",
    "    pl.col(\"postcode\")\n",
    "      .str.strip_chars()\n",
    "      .str.to_uppercase()\n",
    "      .str.replace_all(r\"\\s+\", \" \")\n",
    "      .alias(\"postcode\")\n",
    ")\n",
    "\n"
   ]
  },
  {
   "cell_type": "code",
   "execution_count": null,
   "id": "eaa04b69",
   "metadata": {},
   "outputs": [],
   "source": [
    "df.head(5)"
   ]
  },
  {
   "cell_type": "code",
   "execution_count": null,
   "id": "1f195433",
   "metadata": {},
   "outputs": [],
   "source": [
    "df = df.with_columns(\n",
    "    pl.col(\"date\").str.slice(0, 10).str.strptime(pl.Date, format=\"%Y-%m-%d\", strict=True).alias(\"date\")\n",
    ")\n",
    "\n"
   ]
  },
  {
   "cell_type": "code",
   "execution_count": null,
   "id": "1ce59c84",
   "metadata": {},
   "outputs": [],
   "source": [
    "df = df.with_columns(\n",
    "    pl.col(\"price\")\n",
    "      .str.replace_all(\",\", \"\")\n",
    "      .cast(pl.Float64)\n",
    "      .alias(\"price\")\n",
    ")\n",
    "\n"
   ]
  },
  {
   "cell_type": "code",
   "execution_count": null,
   "id": "e8df39bb",
   "metadata": {},
   "outputs": [],
   "source": [
    "df = df.with_columns([\n",
    "    pl.col(\"date\").dt.year().alias(\"sale_year\"),\n",
    "    pl.col(\"date\").dt.month().alias(\"sale_month\"),\n",
    "    pl.col(\"date\").dt.quarter().alias(\"sale_quarter\")\n",
    "])"
   ]
  },
  {
   "cell_type": "code",
   "execution_count": null,
   "id": "d248a658",
   "metadata": {},
   "outputs": [],
   "source": [
    "df = df.with_columns(\n",
    "    pl.col(\"postcode\")\n",
    "    .str.strip_chars()\n",
    "    .str.to_uppercase()\n",
    "    .alias(\"postcode\")\n",
    ")"
   ]
  },
  {
   "cell_type": "code",
   "execution_count": null,
   "id": "aba5fbae",
   "metadata": {},
   "outputs": [],
   "source": [
    "df_non_null_street = df.filter(pl.col(\"street\").is_not_null())"
   ]
  },
  {
   "cell_type": "code",
   "execution_count": null,
   "id": "5e3d67ef",
   "metadata": {},
   "outputs": [],
   "source": [
    "postcode_mode_list = (\n",
    "    df_non_null_street\n",
    "    .group_by(\"postcode\")\n",
    "    .agg(\n",
    "        pl.col(\"street\").mode().alias(\"street_modes\")\n",
    "    )\n",
    ")"
   ]
  },
  {
   "cell_type": "code",
   "execution_count": null,
   "id": "dcae641d",
   "metadata": {},
   "outputs": [],
   "source": [
    "postcode_fill = postcode_mode_list.with_columns(\n",
    "    pl.col(\"street_modes\").list.first().alias(\"imputed_street\")\n",
    ").drop(\"street_modes\")"
   ]
  },
  {
   "cell_type": "code",
   "execution_count": null,
   "id": "f41d3b13",
   "metadata": {},
   "outputs": [],
   "source": [
    "df_joined = df.join(postcode_fill, on=\"postcode\", how=\"left\")"
   ]
  },
  {
   "cell_type": "code",
   "execution_count": null,
   "id": "b11f336b",
   "metadata": {},
   "outputs": [],
   "source": [
    "df_filled = df_joined.with_columns(\n",
    "    pl.when(pl.col(\"street\").is_null())\n",
    "      .then(pl.col(\"imputed_street\"))\n",
    "      .otherwise(pl.col(\"street\"))\n",
    "      .alias(\"street\")\n",
    ").drop(\"imputed_street\")"
   ]
  },
  {
   "cell_type": "code",
   "execution_count": null,
   "id": "0d8c86b5",
   "metadata": {},
   "outputs": [],
   "source": [
    "df_filled.null_count()"
   ]
  },
  {
   "cell_type": "code",
   "execution_count": null,
   "id": "c9a0cb43",
   "metadata": {},
   "outputs": [],
   "source": [
    "df_filled = df_filled.with_columns([\n",
    "    pl.col(\"paon\").fill_null(\"N/A\"),\n",
    "    pl.col(\"street\").fill_null(\"N/A\")\n",
    "])"
   ]
  },
  {
   "cell_type": "code",
   "execution_count": null,
   "id": "c481351a",
   "metadata": {},
   "outputs": [],
   "source": [
    "categorical_cols = [\"property_type\", \"duration\", \"new\"]\n",
    "\n",
    "for col in categorical_cols:\n",
    "    if col in df_filled.columns:\n",
    "        df_filled = df_filled.with_columns(\n",
    "            pl.col(col)\n",
    "            .str.strip_chars()\n",
    "            .str.to_lowercase()\n",
    "            .cast(pl.Categorical)\n",
    "            .alias(col)\n",
    "        )"
   ]
  },
  {
   "cell_type": "code",
   "execution_count": null,
   "id": "ad97b687",
   "metadata": {},
   "outputs": [],
   "source": [
    "df_filled.head(5)"
   ]
  },
  {
   "cell_type": "code",
   "execution_count": null,
   "id": "92d33a28",
   "metadata": {},
   "outputs": [],
   "source": [
    "df_filled.schema"
   ]
  }
 ],
 "metadata": {
  "kernelspec": {
   "display_name": ".venv",
   "language": "python",
   "name": "python3"
  },
  "language_info": {
   "codemirror_mode": {
    "name": "ipython",
    "version": 3
   },
   "file_extension": ".py",
   "mimetype": "text/x-python",
   "name": "python",
   "nbconvert_exporter": "python",
   "pygments_lexer": "ipython3",
   "version": "3.13.2"
  }
 },
 "nbformat": 4,
 "nbformat_minor": 5
}
