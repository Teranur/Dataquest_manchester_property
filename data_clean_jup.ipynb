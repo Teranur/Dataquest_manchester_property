{
 "cells": [
  {
   "cell_type": "code",
   "execution_count": 1,
   "id": "50eb2019",
   "metadata": {},
   "outputs": [],
   "source": [
    "import polars as pl"
   ]
  },
  {
   "cell_type": "code",
   "execution_count": 2,
   "id": "ba16cc7f",
   "metadata": {},
   "outputs": [],
   "source": [
    "df = pl.read_parquet(\"data/pp_data_man.parquet\")\n",
    "df2 = pl.read_parquet(\"data/pc_man.parquet\")"
   ]
  },
  {
   "cell_type": "code",
   "execution_count": 3,
   "id": "b8367e89",
   "metadata": {},
   "outputs": [
    {
     "data": {
      "text/html": [
       "<div><style>\n",
       ".dataframe > thead > tr,\n",
       ".dataframe > tbody > tr {\n",
       "  text-align: right;\n",
       "  white-space: pre-wrap;\n",
       "}\n",
       "</style>\n",
       "<small>shape: (5, 14)</small><table border=\"1\" class=\"dataframe\"><thead><tr><th>column_1</th><th>column_2</th><th>column_3</th><th>column_4</th><th>column_5</th><th>column_6</th><th>column_7</th><th>column_8</th><th>column_9</th><th>column_10</th><th>column_11</th><th>column_12</th><th>column_13</th><th>column_14</th></tr><tr><td>str</td><td>str</td><td>str</td><td>str</td><td>str</td><td>str</td><td>str</td><td>str</td><td>str</td><td>str</td><td>str</td><td>str</td><td>str</td><td>str</td></tr></thead><tbody><tr><td>&quot;{D93B27B1-CBD4-3100-E053-6C04A…</td><td>&quot;140,000.00&quot;</td><td>&quot;2022-02-16 00:00&quot;</td><td>&quot;SK16 4DT&quot;</td><td>&quot;T&quot;</td><td>&quot;N&quot;</td><td>&quot;F&quot;</td><td>&quot;70&quot;</td><td>&quot;&quot;</td><td>&quot;CHAPEL STREET&quot;</td><td>&quot;&quot;</td><td>&quot;DUKINFIELD&quot;</td><td>&quot;TAMESIDE&quot;</td><td>&quot;GREATER MANCHESTER&quot;</td></tr><tr><td>&quot;{2ACACE8D-02B4-295E-E063-4804A…</td><td>&quot;278,000.00&quot;</td><td>&quot;2024-11-29 00:00&quot;</td><td>&quot;SK6 1QW&quot;</td><td>&quot;S&quot;</td><td>&quot;N&quot;</td><td>&quot;F&quot;</td><td>&quot;1&quot;</td><td>&quot;&quot;</td><td>&quot;BRIAR GROVE&quot;</td><td>&quot;WOODLEY&quot;</td><td>&quot;STOCKPORT&quot;</td><td>&quot;STOCKPORT&quot;</td><td>&quot;GREATER MANCHESTER&quot;</td></tr><tr><td>&quot;{01EB45EF-F1B0-40F3-E063-4704A…</td><td>&quot;345,448.00&quot;</td><td>&quot;2022-02-11 00:00&quot;</td><td>&quot;M1 2EY&quot;</td><td>&quot;F&quot;</td><td>&quot;Y&quot;</td><td>&quot;L&quot;</td><td>&quot;72&quot;</td><td>&quot;FLAT 902&quot;</td><td>&quot;CHAPELTOWN STREET&quot;</td><td>&quot;&quot;</td><td>&quot;MANCHESTER&quot;</td><td>&quot;MANCHESTER&quot;</td><td>&quot;GREATER MANCHESTER&quot;</td></tr><tr><td>&quot;{879537F9-FB6B-4663-A0E5-5E407…</td><td>&quot;93,000.00&quot;</td><td>&quot;2004-09-22 00:00&quot;</td><td>&quot;BL8 2RR&quot;</td><td>&quot;T&quot;</td><td>&quot;N&quot;</td><td>&quot;L&quot;</td><td>&quot;43&quot;</td><td>&quot;&quot;</td><td>&quot;NEWBOLD STREET&quot;</td><td>&quot;BURY&quot;</td><td>&quot;BURY&quot;</td><td>&quot;BURY&quot;</td><td>&quot;GREATER MANCHESTER&quot;</td></tr><tr><td>&quot;{7011B10A-2B91-8ED6-E053-6B04A…</td><td>&quot;80,000.00&quot;</td><td>&quot;2018-05-03 00:00&quot;</td><td>&quot;BL3 4HE&quot;</td><td>&quot;T&quot;</td><td>&quot;N&quot;</td><td>&quot;F&quot;</td><td>&quot;243&quot;</td><td>&quot;&quot;</td><td>&quot;WILLOWS LANE&quot;</td><td>&quot;&quot;</td><td>&quot;BOLTON&quot;</td><td>&quot;BOLTON&quot;</td><td>&quot;GREATER MANCHESTER&quot;</td></tr></tbody></table></div>"
      ],
      "text/plain": [
       "shape: (5, 14)\n",
       "┌───────────┬───────────┬───────────┬──────────┬───┬───────────┬───────────┬───────────┬───────────┐\n",
       "│ column_1  ┆ column_2  ┆ column_3  ┆ column_4 ┆ … ┆ column_11 ┆ column_12 ┆ column_13 ┆ column_14 │\n",
       "│ ---       ┆ ---       ┆ ---       ┆ ---      ┆   ┆ ---       ┆ ---       ┆ ---       ┆ ---       │\n",
       "│ str       ┆ str       ┆ str       ┆ str      ┆   ┆ str       ┆ str       ┆ str       ┆ str       │\n",
       "╞═══════════╪═══════════╪═══════════╪══════════╪═══╪═══════════╪═══════════╪═══════════╪═══════════╡\n",
       "│ {D93B27B1 ┆ 140,000.0 ┆ 2022-02-1 ┆ SK16 4DT ┆ … ┆           ┆ DUKINFIEL ┆ TAMESIDE  ┆ GREATER   │\n",
       "│ -CBD4-310 ┆ 0         ┆ 6 00:00   ┆          ┆   ┆           ┆ D         ┆           ┆ MANCHESTE │\n",
       "│ 0-E053-6C ┆           ┆           ┆          ┆   ┆           ┆           ┆           ┆ R         │\n",
       "│ 04A…      ┆           ┆           ┆          ┆   ┆           ┆           ┆           ┆           │\n",
       "│ {2ACACE8D ┆ 278,000.0 ┆ 2024-11-2 ┆ SK6 1QW  ┆ … ┆ WOODLEY   ┆ STOCKPORT ┆ STOCKPORT ┆ GREATER   │\n",
       "│ -02B4-295 ┆ 0         ┆ 9 00:00   ┆          ┆   ┆           ┆           ┆           ┆ MANCHESTE │\n",
       "│ E-E063-48 ┆           ┆           ┆          ┆   ┆           ┆           ┆           ┆ R         │\n",
       "│ 04A…      ┆           ┆           ┆          ┆   ┆           ┆           ┆           ┆           │\n",
       "│ {01EB45EF ┆ 345,448.0 ┆ 2022-02-1 ┆ M1 2EY   ┆ … ┆           ┆ MANCHESTE ┆ MANCHESTE ┆ GREATER   │\n",
       "│ -F1B0-40F ┆ 0         ┆ 1 00:00   ┆          ┆   ┆           ┆ R         ┆ R         ┆ MANCHESTE │\n",
       "│ 3-E063-47 ┆           ┆           ┆          ┆   ┆           ┆           ┆           ┆ R         │\n",
       "│ 04A…      ┆           ┆           ┆          ┆   ┆           ┆           ┆           ┆           │\n",
       "│ {879537F9 ┆ 93,000.00 ┆ 2004-09-2 ┆ BL8 2RR  ┆ … ┆ BURY      ┆ BURY      ┆ BURY      ┆ GREATER   │\n",
       "│ -FB6B-466 ┆           ┆ 2 00:00   ┆          ┆   ┆           ┆           ┆           ┆ MANCHESTE │\n",
       "│ 3-A0E5-5E ┆           ┆           ┆          ┆   ┆           ┆           ┆           ┆ R         │\n",
       "│ 407…      ┆           ┆           ┆          ┆   ┆           ┆           ┆           ┆           │\n",
       "│ {7011B10A ┆ 80,000.00 ┆ 2018-05-0 ┆ BL3 4HE  ┆ … ┆           ┆ BOLTON    ┆ BOLTON    ┆ GREATER   │\n",
       "│ -2B91-8ED ┆           ┆ 3 00:00   ┆          ┆   ┆           ┆           ┆           ┆ MANCHESTE │\n",
       "│ 6-E053-6B ┆           ┆           ┆          ┆   ┆           ┆           ┆           ┆ R         │\n",
       "│ 04A…      ┆           ┆           ┆          ┆   ┆           ┆           ┆           ┆           │\n",
       "└───────────┴───────────┴───────────┴──────────┴───┴───────────┴───────────┴───────────┴───────────┘"
      ]
     },
     "execution_count": 3,
     "metadata": {},
     "output_type": "execute_result"
    }
   ],
   "source": [
    "df.head(5)"
   ]
  },
  {
   "cell_type": "code",
   "execution_count": 4,
   "id": "f75ab4bd",
   "metadata": {},
   "outputs": [
    {
     "data": {
      "text/html": [
       "<div><style>\n",
       ".dataframe > thead > tr,\n",
       ".dataframe > tbody > tr {\n",
       "  text-align: right;\n",
       "  white-space: pre-wrap;\n",
       "}\n",
       "</style>\n",
       "<small>shape: (5, 3)</small><table border=\"1\" class=\"dataframe\"><thead><tr><th>pcds</th><th>lat</th><th>long</th></tr><tr><td>str</td><td>f64</td><td>f64</td></tr></thead><tbody><tr><td>&quot;AL1 3PE&quot;</td><td>51.755864</td><td>-0.327577</td></tr><tr><td>&quot;AL1 4FJ&quot;</td><td>51.761598</td><td>-0.326075</td></tr><tr><td>&quot;AL1 5UE&quot;</td><td>51.751596</td><td>-0.325894</td></tr><tr><td>&quot;AL2 1NT&quot;</td><td>51.720229</td><td>-0.295058</td></tr><tr><td>&quot;AL2 2PJ&quot;</td><td>51.721518</td><td>-0.337343</td></tr></tbody></table></div>"
      ],
      "text/plain": [
       "shape: (5, 3)\n",
       "┌─────────┬───────────┬───────────┐\n",
       "│ pcds    ┆ lat       ┆ long      │\n",
       "│ ---     ┆ ---       ┆ ---       │\n",
       "│ str     ┆ f64       ┆ f64       │\n",
       "╞═════════╪═══════════╪═══════════╡\n",
       "│ AL1 3PE ┆ 51.755864 ┆ -0.327577 │\n",
       "│ AL1 4FJ ┆ 51.761598 ┆ -0.326075 │\n",
       "│ AL1 5UE ┆ 51.751596 ┆ -0.325894 │\n",
       "│ AL2 1NT ┆ 51.720229 ┆ -0.295058 │\n",
       "│ AL2 2PJ ┆ 51.721518 ┆ -0.337343 │\n",
       "└─────────┴───────────┴───────────┘"
      ]
     },
     "execution_count": 4,
     "metadata": {},
     "output_type": "execute_result"
    }
   ],
   "source": [
    "df2.head(5)"
   ]
  },
  {
   "cell_type": "code",
   "execution_count": 5,
   "id": "78104459",
   "metadata": {},
   "outputs": [],
   "source": [
    "df.columns = [\n",
    "    \"id\", \"price\", \"date\", \"postcode\", \"property_type\", \"new\", \"duration\",\n",
    "    \"paon\", \"saon\", \"street\", \"locality\", \"town_city\", \"district\", \"county\"\n",
    "]\n",
    "df2 = df2.rename({\"pcds\": \"postcode\", \"lat\": \"latitude\", \"long\": \"longitude\"})"
   ]
  },
  {
   "cell_type": "code",
   "execution_count": 6,
   "id": "b1333946",
   "metadata": {},
   "outputs": [
    {
     "data": {
      "text/html": [
       "<div><style>\n",
       ".dataframe > thead > tr,\n",
       ".dataframe > tbody > tr {\n",
       "  text-align: right;\n",
       "  white-space: pre-wrap;\n",
       "}\n",
       "</style>\n",
       "<small>shape: (10, 1)</small><table border=\"1\" class=\"dataframe\"><thead><tr><th>saon</th></tr><tr><td>str</td></tr></thead><tbody><tr><td>&quot;&quot;</td></tr><tr><td>&quot;&quot;</td></tr><tr><td>&quot;FLAT 902&quot;</td></tr><tr><td>&quot;&quot;</td></tr><tr><td>&quot;&quot;</td></tr><tr><td>&quot;APARTMENT 23&quot;</td></tr><tr><td>&quot;&quot;</td></tr><tr><td>&quot;&quot;</td></tr><tr><td>&quot;&quot;</td></tr><tr><td>&quot;&quot;</td></tr></tbody></table></div>"
      ],
      "text/plain": [
       "shape: (10, 1)\n",
       "┌──────────────┐\n",
       "│ saon         │\n",
       "│ ---          │\n",
       "│ str          │\n",
       "╞══════════════╡\n",
       "│              │\n",
       "│              │\n",
       "│ FLAT 902     │\n",
       "│              │\n",
       "│              │\n",
       "│ APARTMENT 23 │\n",
       "│              │\n",
       "│              │\n",
       "│              │\n",
       "│              │\n",
       "└──────────────┘"
      ]
     },
     "execution_count": 6,
     "metadata": {},
     "output_type": "execute_result"
    }
   ],
   "source": [
    "df.select(pl.col(\"saon\")).head(10)\n"
   ]
  },
  {
   "cell_type": "code",
   "execution_count": 7,
   "id": "ba3f197c",
   "metadata": {},
   "outputs": [
    {
     "data": {
      "text/html": [
       "<div><style>\n",
       ".dataframe > thead > tr,\n",
       ".dataframe > tbody > tr {\n",
       "  text-align: right;\n",
       "  white-space: pre-wrap;\n",
       "}\n",
       "</style>\n",
       "<small>shape: (1, 14)</small><table border=\"1\" class=\"dataframe\"><thead><tr><th>id</th><th>price</th><th>date</th><th>postcode</th><th>property_type</th><th>new</th><th>duration</th><th>paon</th><th>saon</th><th>street</th><th>locality</th><th>town_city</th><th>district</th><th>county</th></tr><tr><td>u32</td><td>u32</td><td>u32</td><td>u32</td><td>u32</td><td>u32</td><td>u32</td><td>u32</td><td>u32</td><td>u32</td><td>u32</td><td>u32</td><td>u32</td><td>u32</td></tr></thead><tbody><tr><td>0</td><td>0</td><td>0</td><td>0</td><td>0</td><td>0</td><td>0</td><td>0</td><td>0</td><td>0</td><td>0</td><td>0</td><td>0</td><td>0</td></tr></tbody></table></div>"
      ],
      "text/plain": [
       "shape: (1, 14)\n",
       "┌─────┬───────┬──────┬──────────┬───┬──────────┬───────────┬──────────┬────────┐\n",
       "│ id  ┆ price ┆ date ┆ postcode ┆ … ┆ locality ┆ town_city ┆ district ┆ county │\n",
       "│ --- ┆ ---   ┆ ---  ┆ ---      ┆   ┆ ---      ┆ ---       ┆ ---      ┆ ---    │\n",
       "│ u32 ┆ u32   ┆ u32  ┆ u32      ┆   ┆ u32      ┆ u32       ┆ u32      ┆ u32    │\n",
       "╞═════╪═══════╪══════╪══════════╪═══╪══════════╪═══════════╪══════════╪════════╡\n",
       "│ 0   ┆ 0     ┆ 0    ┆ 0        ┆ … ┆ 0        ┆ 0         ┆ 0        ┆ 0      │\n",
       "└─────┴───────┴──────┴──────────┴───┴──────────┴───────────┴──────────┴────────┘"
      ]
     },
     "execution_count": 7,
     "metadata": {},
     "output_type": "execute_result"
    }
   ],
   "source": [
    "df.null_count()"
   ]
  },
  {
   "cell_type": "code",
   "execution_count": 8,
   "id": "d78165b5",
   "metadata": {},
   "outputs": [
    {
     "data": {
      "text/html": [
       "<div><style>\n",
       ".dataframe > thead > tr,\n",
       ".dataframe > tbody > tr {\n",
       "  text-align: right;\n",
       "  white-space: pre-wrap;\n",
       "}\n",
       "</style>\n",
       "<small>shape: (1, 3)</small><table border=\"1\" class=\"dataframe\"><thead><tr><th>postcode</th><th>latitude</th><th>longitude</th></tr><tr><td>u32</td><td>u32</td><td>u32</td></tr></thead><tbody><tr><td>0</td><td>0</td><td>0</td></tr></tbody></table></div>"
      ],
      "text/plain": [
       "shape: (1, 3)\n",
       "┌──────────┬──────────┬───────────┐\n",
       "│ postcode ┆ latitude ┆ longitude │\n",
       "│ ---      ┆ ---      ┆ ---       │\n",
       "│ u32      ┆ u32      ┆ u32       │\n",
       "╞══════════╪══════════╪═══════════╡\n",
       "│ 0        ┆ 0        ┆ 0         │\n",
       "└──────────┴──────────┴───────────┘"
      ]
     },
     "execution_count": 8,
     "metadata": {},
     "output_type": "execute_result"
    }
   ],
   "source": [
    "\n",
    "df2.null_count()"
   ]
  },
  {
   "cell_type": "code",
   "execution_count": 9,
   "id": "d323bc2f",
   "metadata": {},
   "outputs": [
    {
     "data": {
      "text/plain": [
       "Schema([('id', String),\n",
       "        ('price', String),\n",
       "        ('date', String),\n",
       "        ('postcode', String),\n",
       "        ('property_type', String),\n",
       "        ('new', String),\n",
       "        ('duration', String),\n",
       "        ('paon', String),\n",
       "        ('saon', String),\n",
       "        ('street', String),\n",
       "        ('locality', String),\n",
       "        ('town_city', String),\n",
       "        ('district', String),\n",
       "        ('county', String)])"
      ]
     },
     "execution_count": 9,
     "metadata": {},
     "output_type": "execute_result"
    }
   ],
   "source": [
    "df.schema"
   ]
  },
  {
   "cell_type": "code",
   "execution_count": 10,
   "id": "66f5309a",
   "metadata": {},
   "outputs": [
    {
     "data": {
      "text/plain": [
       "Schema([('postcode', String), ('latitude', Float64), ('longitude', Float64)])"
      ]
     },
     "execution_count": 10,
     "metadata": {},
     "output_type": "execute_result"
    }
   ],
   "source": [
    "df2.schema"
   ]
  },
  {
   "cell_type": "code",
   "execution_count": 11,
   "id": "06a7a917",
   "metadata": {},
   "outputs": [],
   "source": [
    "df = df.with_columns(\n",
    "    pl.col(\"postcode\")\n",
    "      .cast(pl.Utf8)\n",
    "      .str.strip_chars()\n",
    "      .str.to_uppercase()\n",
    "      .str.replace_all(r\"\\s+\", \" \")\n",
    "      .alias(\"postcode\")\n",
    ")\n",
    "\n",
    "df2 = df2.with_columns(\n",
    "    pl.col(\"postcode\")\n",
    "      .cast(pl.Utf8)\n",
    "      .str.strip_chars()\n",
    "      .str.to_uppercase()\n",
    "      .str.replace_all(r\"\\s+\", \" \")\n",
    "      .alias(\"postcode\")\n",
    ")"
   ]
  },
  {
   "cell_type": "code",
   "execution_count": 12,
   "id": "144416ac",
   "metadata": {},
   "outputs": [],
   "source": [
    "df = df.join(\n",
    "    df2.select(\"postcode\", \"latitude\", \"longitude\"),\n",
    "    on=\"postcode\",\n",
    "    how=\"left\"\n",
    ")"
   ]
  },
  {
   "cell_type": "code",
   "execution_count": 13,
   "id": "bbcc620d",
   "metadata": {},
   "outputs": [],
   "source": [
    "string_cols = [c for c, t in df.schema.items() if t == pl.Utf8]\n",
    "df = df.with_columns([\n",
    "    pl.when(pl.col(c) == \"\").then(None).otherwise(pl.col(c)).alias(c) for c in string_cols\n",
    "    ])"
   ]
  },
  {
   "cell_type": "code",
   "execution_count": 26,
   "id": "ea7b8f80",
   "metadata": {},
   "outputs": [
    {
     "data": {
      "text/html": [
       "<div><style>\n",
       ".dataframe > thead > tr,\n",
       ".dataframe > tbody > tr {\n",
       "  text-align: right;\n",
       "  white-space: pre-wrap;\n",
       "}\n",
       "</style>\n",
       "<small>shape: (1, 14)</small><table border=\"1\" class=\"dataframe\"><thead><tr><th>id</th><th>price</th><th>date</th><th>postcode</th><th>property_type</th><th>new</th><th>duration</th><th>paon</th><th>street</th><th>town_city</th><th>district</th><th>county</th><th>latitude</th><th>longitude</th></tr><tr><td>u32</td><td>u32</td><td>u32</td><td>u32</td><td>u32</td><td>u32</td><td>u32</td><td>u32</td><td>u32</td><td>u32</td><td>u32</td><td>u32</td><td>u32</td><td>u32</td></tr></thead><tbody><tr><td>0</td><td>0</td><td>0</td><td>0</td><td>0</td><td>0</td><td>0</td><td>21</td><td>1394</td><td>0</td><td>0</td><td>0</td><td>30</td><td>30</td></tr></tbody></table></div>"
      ],
      "text/plain": [
       "shape: (1, 14)\n",
       "┌─────┬───────┬──────┬──────────┬───┬──────────┬────────┬──────────┬───────────┐\n",
       "│ id  ┆ price ┆ date ┆ postcode ┆ … ┆ district ┆ county ┆ latitude ┆ longitude │\n",
       "│ --- ┆ ---   ┆ ---  ┆ ---      ┆   ┆ ---      ┆ ---    ┆ ---      ┆ ---       │\n",
       "│ u32 ┆ u32   ┆ u32  ┆ u32      ┆   ┆ u32      ┆ u32    ┆ u32      ┆ u32       │\n",
       "╞═════╪═══════╪══════╪══════════╪═══╪══════════╪════════╪══════════╪═══════════╡\n",
       "│ 0   ┆ 0     ┆ 0    ┆ 0        ┆ … ┆ 0        ┆ 0      ┆ 30       ┆ 30        │\n",
       "└─────┴───────┴──────┴──────────┴───┴──────────┴────────┴──────────┴───────────┘"
      ]
     },
     "execution_count": 26,
     "metadata": {},
     "output_type": "execute_result"
    }
   ],
   "source": [
    "df.null_count()\n"
   ]
  },
  {
   "cell_type": "code",
   "execution_count": 15,
   "id": "019628aa",
   "metadata": {},
   "outputs": [],
   "source": [
    "df = df.with_columns(\n",
    "    pl.when(pl.col(\"saon\").is_not_null() & (pl.col(\"saon\") != \"\"))\n",
    "      .then(pl.concat_str([pl.col(\"paon\"), pl.col(\"saon\")], separator=\", \"))\n",
    "      .otherwise(pl.col(\"paon\"))\n",
    "      .alias(\"paon\")\n",
    ").drop(\"saon\")\n",
    "\n"
   ]
  },
  {
   "cell_type": "code",
   "execution_count": null,
   "id": "1a270cee",
   "metadata": {},
   "outputs": [],
   "source": [
    "null_paon = df.filter(pl.col(\"street\").is_null())\n",
    "print(null_paon)\n"
   ]
  },
  {
   "cell_type": "code",
   "execution_count": 25,
   "id": "2e494c3d",
   "metadata": {},
   "outputs": [],
   "source": [
    "df = df.drop_nulls(subset=[\"postcode\"])\n",
    "df = df.drop(\"locality\")\n"
   ]
  },
  {
   "cell_type": "code",
   "execution_count": 28,
   "id": "9b28fbcf",
   "metadata": {},
   "outputs": [],
   "source": [
    "df = df.with_columns(\n",
    "    pl.col(\"postcode\")\n",
    "      .str.strip_chars()\n",
    "      .str.to_uppercase()\n",
    "      .str.replace_all(r\"\\s+\", \" \")\n",
    "      .alias(\"postcode\")\n",
    ")\n",
    "\n"
   ]
  },
  {
   "cell_type": "code",
   "execution_count": 36,
   "id": "eaa04b69",
   "metadata": {},
   "outputs": [
    {
     "data": {
      "text/html": [
       "<div><style>\n",
       ".dataframe > thead > tr,\n",
       ".dataframe > tbody > tr {\n",
       "  text-align: right;\n",
       "  white-space: pre-wrap;\n",
       "}\n",
       "</style>\n",
       "<small>shape: (5, 14)</small><table border=\"1\" class=\"dataframe\"><thead><tr><th>id</th><th>price</th><th>date</th><th>postcode</th><th>property_type</th><th>new</th><th>duration</th><th>paon</th><th>street</th><th>town_city</th><th>district</th><th>county</th><th>latitude</th><th>longitude</th></tr><tr><td>str</td><td>f64</td><td>date</td><td>str</td><td>str</td><td>str</td><td>str</td><td>str</td><td>str</td><td>str</td><td>str</td><td>str</td><td>f64</td><td>f64</td></tr></thead><tbody><tr><td>&quot;{D93B27B1-CBD4-3100-E053-6C04A…</td><td>140000.0</td><td>2022-02-16</td><td>&quot;SK16 4DT&quot;</td><td>&quot;T&quot;</td><td>&quot;N&quot;</td><td>&quot;F&quot;</td><td>&quot;70&quot;</td><td>&quot;CHAPEL STREET&quot;</td><td>&quot;DUKINFIELD&quot;</td><td>&quot;TAMESIDE&quot;</td><td>&quot;GREATER MANCHESTER&quot;</td><td>53.477466</td><td>-2.091735</td></tr><tr><td>&quot;{2ACACE8D-02B4-295E-E063-4804A…</td><td>278000.0</td><td>2024-11-29</td><td>&quot;SK6 1QW&quot;</td><td>&quot;S&quot;</td><td>&quot;N&quot;</td><td>&quot;F&quot;</td><td>&quot;1&quot;</td><td>&quot;BRIAR GROVE&quot;</td><td>&quot;STOCKPORT&quot;</td><td>&quot;STOCKPORT&quot;</td><td>&quot;GREATER MANCHESTER&quot;</td><td>53.427355</td><td>-2.102642</td></tr><tr><td>&quot;{01EB45EF-F1B0-40F3-E063-4704A…</td><td>345448.0</td><td>2022-02-11</td><td>&quot;M1 2EY&quot;</td><td>&quot;F&quot;</td><td>&quot;Y&quot;</td><td>&quot;L&quot;</td><td>&quot;72, FLAT 902&quot;</td><td>&quot;CHAPELTOWN STREET&quot;</td><td>&quot;MANCHESTER&quot;</td><td>&quot;MANCHESTER&quot;</td><td>&quot;GREATER MANCHESTER&quot;</td><td>53.478898</td><td>-2.224708</td></tr><tr><td>&quot;{879537F9-FB6B-4663-A0E5-5E407…</td><td>93000.0</td><td>2004-09-22</td><td>&quot;BL8 2RR&quot;</td><td>&quot;T&quot;</td><td>&quot;N&quot;</td><td>&quot;L&quot;</td><td>&quot;43&quot;</td><td>&quot;NEWBOLD STREET&quot;</td><td>&quot;BURY&quot;</td><td>&quot;BURY&quot;</td><td>&quot;GREATER MANCHESTER&quot;</td><td>53.594024</td><td>-2.318071</td></tr><tr><td>&quot;{7011B10A-2B91-8ED6-E053-6B04A…</td><td>80000.0</td><td>2018-05-03</td><td>&quot;BL3 4HE&quot;</td><td>&quot;T&quot;</td><td>&quot;N&quot;</td><td>&quot;F&quot;</td><td>&quot;243&quot;</td><td>&quot;WILLOWS LANE&quot;</td><td>&quot;BOLTON&quot;</td><td>&quot;BOLTON&quot;</td><td>&quot;GREATER MANCHESTER&quot;</td><td>53.56682</td><td>-2.458227</td></tr></tbody></table></div>"
      ],
      "text/plain": [
       "shape: (5, 14)\n",
       "┌────────────┬──────────┬───────────┬──────────┬───┬───────────┬───────────┬───────────┬───────────┐\n",
       "│ id         ┆ price    ┆ date      ┆ postcode ┆ … ┆ district  ┆ county    ┆ latitude  ┆ longitude │\n",
       "│ ---        ┆ ---      ┆ ---       ┆ ---      ┆   ┆ ---       ┆ ---       ┆ ---       ┆ ---       │\n",
       "│ str        ┆ f64      ┆ date      ┆ str      ┆   ┆ str       ┆ str       ┆ f64       ┆ f64       │\n",
       "╞════════════╪══════════╪═══════════╪══════════╪═══╪═══════════╪═══════════╪═══════════╪═══════════╡\n",
       "│ {D93B27B1- ┆ 140000.0 ┆ 2022-02-1 ┆ SK16 4DT ┆ … ┆ TAMESIDE  ┆ GREATER   ┆ 53.477466 ┆ -2.091735 │\n",
       "│ CBD4-3100- ┆          ┆ 6         ┆          ┆   ┆           ┆ MANCHESTE ┆           ┆           │\n",
       "│ E053-6C04A ┆          ┆           ┆          ┆   ┆           ┆ R         ┆           ┆           │\n",
       "│ …          ┆          ┆           ┆          ┆   ┆           ┆           ┆           ┆           │\n",
       "│ {2ACACE8D- ┆ 278000.0 ┆ 2024-11-2 ┆ SK6 1QW  ┆ … ┆ STOCKPORT ┆ GREATER   ┆ 53.427355 ┆ -2.102642 │\n",
       "│ 02B4-295E- ┆          ┆ 9         ┆          ┆   ┆           ┆ MANCHESTE ┆           ┆           │\n",
       "│ E063-4804A ┆          ┆           ┆          ┆   ┆           ┆ R         ┆           ┆           │\n",
       "│ …          ┆          ┆           ┆          ┆   ┆           ┆           ┆           ┆           │\n",
       "│ {01EB45EF- ┆ 345448.0 ┆ 2022-02-1 ┆ M1 2EY   ┆ … ┆ MANCHESTE ┆ GREATER   ┆ 53.478898 ┆ -2.224708 │\n",
       "│ F1B0-40F3- ┆          ┆ 1         ┆          ┆   ┆ R         ┆ MANCHESTE ┆           ┆           │\n",
       "│ E063-4704A ┆          ┆           ┆          ┆   ┆           ┆ R         ┆           ┆           │\n",
       "│ …          ┆          ┆           ┆          ┆   ┆           ┆           ┆           ┆           │\n",
       "│ {879537F9- ┆ 93000.0  ┆ 2004-09-2 ┆ BL8 2RR  ┆ … ┆ BURY      ┆ GREATER   ┆ 53.594024 ┆ -2.318071 │\n",
       "│ FB6B-4663- ┆          ┆ 2         ┆          ┆   ┆           ┆ MANCHESTE ┆           ┆           │\n",
       "│ A0E5-5E407 ┆          ┆           ┆          ┆   ┆           ┆ R         ┆           ┆           │\n",
       "│ …          ┆          ┆           ┆          ┆   ┆           ┆           ┆           ┆           │\n",
       "│ {7011B10A- ┆ 80000.0  ┆ 2018-05-0 ┆ BL3 4HE  ┆ … ┆ BOLTON    ┆ GREATER   ┆ 53.56682  ┆ -2.458227 │\n",
       "│ 2B91-8ED6- ┆          ┆ 3         ┆          ┆   ┆           ┆ MANCHESTE ┆           ┆           │\n",
       "│ E053-6B04A ┆          ┆           ┆          ┆   ┆           ┆ R         ┆           ┆           │\n",
       "│ …          ┆          ┆           ┆          ┆   ┆           ┆           ┆           ┆           │\n",
       "└────────────┴──────────┴───────────┴──────────┴───┴───────────┴───────────┴───────────┴───────────┘"
      ]
     },
     "execution_count": 36,
     "metadata": {},
     "output_type": "execute_result"
    }
   ],
   "source": [
    "df.head(5)"
   ]
  },
  {
   "cell_type": "code",
   "execution_count": 31,
   "id": "1f195433",
   "metadata": {},
   "outputs": [],
   "source": [
    "df = df.with_columns(\n",
    "    pl.col(\"date\").str.slice(0, 10).str.strptime(pl.Date, format=\"%Y-%m-%d\", strict=True).alias(\"date\")\n",
    ")\n",
    "\n"
   ]
  },
  {
   "cell_type": "code",
   "execution_count": 35,
   "id": "1ce59c84",
   "metadata": {},
   "outputs": [],
   "source": [
    "df = df.with_columns(\n",
    "    pl.col(\"price\")\n",
    "      .str.replace_all(\",\", \"\")\n",
    "      .cast(pl.Float64)\n",
    "      .alias(\"price\")\n",
    ")\n",
    "\n"
   ]
  }
 ],
 "metadata": {
  "kernelspec": {
   "display_name": ".venv",
   "language": "python",
   "name": "python3"
  },
  "language_info": {
   "codemirror_mode": {
    "name": "ipython",
    "version": 3
   },
   "file_extension": ".py",
   "mimetype": "text/x-python",
   "name": "python",
   "nbconvert_exporter": "python",
   "pygments_lexer": "ipython3",
   "version": "3.13.2"
  }
 },
 "nbformat": 4,
 "nbformat_minor": 5
}
